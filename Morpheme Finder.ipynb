{
 "cells": [
  {
   "cell_type": "markdown",
   "metadata": {},
   "source": [
    "# Morpheme Finder\n",
    "[TOC]\n"
   ]
  },
  {
   "cell_type": "markdown",
   "metadata": {},
   "source": [
    "## Import & Define Env Variables"
   ]
  },
  {
   "cell_type": "code",
   "execution_count": 14,
   "metadata": {
    "pycharm": {
     "is_executing": false
    }
   },
   "outputs": [],
   "source": [
    "from collections import defaultdict\n",
    "from tqdm import tqdm\n",
    "from requests import request, ConnectionError\n",
    "from json import loads\n",
    "from random import sample\n",
    "from math import ceil\n",
    "import pycrfsuite\n",
    "\n",
    "word_dict = defaultdict(None)\n",
    "label_func = defaultdict(None)\n",
    "known_prefixes = set()\n",
    "known_suffixes = set()\n",
    "\n",
    "EVQR_AFFIX = '<evqr.affix>'\n",
    "PREFIX_AND_SUFFIX = '<prefix.and.suffix>'\n",
    "VOWEL = '<vowel>'\n",
    "\n",
    "CROSS_VALIDATION_FOLD = 5"
   ]
  },
  {
   "cell_type": "code",
   "execution_count": 15,
   "metadata": {},
   "outputs": [],
   "source": [
    "try:\n",
    "    with open('.env.json') as f:\n",
    "        ENV_VARIABLES = loads(f.read())\n",
    "        f.close()\n",
    "except FileNotFoundError:\n",
    "    ENV_VARIABLES = {'DATA_DIR': 'C:\\\\'}\n",
    "DATA_DIR = ENV_VARIABLES['DATA_DIR']\n",
    "FTP_DIR = 'http://m106.nthu.edu.tw/~s106062341/morpheme_finder_data/'"
   ]
  },
  {
   "cell_type": "markdown",
   "metadata": {},
   "source": [
    "### Class Word"
   ]
  },
  {
   "cell_type": "code",
   "execution_count": 16,
   "metadata": {
    "pycharm": {
     "name": "#%%\n"
    }
   },
   "outputs": [],
   "source": [
    "class Word:\n",
    "\n",
    "    @staticmethod\n",
    "    def create_synonym_postfix(word, delete=None, append=None):\n",
    "        return f'{word}{f\"--{delete}--\" if delete is not None else \"\"}{f\"++{append}++\" if append is not None else \"\"}'\n",
    "\n",
    "    @staticmethod\n",
    "    def create_synonym_prefix(word, delete=None, append=None):\n",
    "        return f'{f\"--{delete}--\" if delete is not None else \"\"}{f\"++{append}++\" if append is not None else \"\"}{word}'\n",
    "\n",
    "    @staticmethod\n",
    "    def letter_cmp(a, b):\n",
    "        divider = 0\n",
    "        for i, (letter_a, letter_b) in enumerate(zip(a, b)):\n",
    "            if letter_a != letter_b:\n",
    "                divider = i\n",
    "        return min(divider, len(a), len(b))\n",
    "\n",
    "    def __init__(self, text, affix_list):\n",
    "        self.text = text\n",
    "        self.affix_list = affix_list\n",
    "        self.synonym = defaultdict(None)\n",
    "        self.label = defaultdict(None)\n",
    "\n",
    "    @property\n",
    "    def count(self):\n",
    "        return sum([c for c in self.synonym.values()])\n",
    "\n",
    "    def create_label(self, label_name, *args):\n",
    "        if label_name not in label_func:\n",
    "            return False\n",
    "        self.label[label_name] = label_func[label_name](self, *args)\n",
    "        return True"
   ]
  },
  {
   "cell_type": "markdown",
   "metadata": {},
   "source": [
    "## Data Accessing\n",
    "### first provide a method to access files either in local storage or in FTP"
   ]
  },
  {
   "cell_type": "code",
   "execution_count": 17,
   "metadata": {
    "pycharm": {
     "name": "#%%\n"
    }
   },
   "outputs": [],
   "source": [
    "def get_file(filename: str, callback: classmethod) -> bool:\n",
    "    try:\n",
    "        with open(f'{DATA_DIR}{filename}', 'r') as f:\n",
    "            callback(f.read())\n",
    "            f.close()\n",
    "            return True\n",
    "    except FileNotFoundError:\n",
    "        try:\n",
    "            res = request('GET', f'{FTP_DIR}{filename}')\n",
    "            res.encoding = 'Big5'\n",
    "            callback(res.text)\n",
    "            return True\n",
    "        except ConnectionError:\n",
    "            print('HTTP connection failed')\n",
    "            return False\n",
    "        except Exception as e:\n",
    "            print(f'Load failed: {e}')\n",
    "            return False"
   ]
  },
  {
   "cell_type": "markdown",
   "metadata": {},
   "source": [
    "### Load Data\n",
    "includes:\n",
    "1. *EVQR.word.and.affix.txt'*\n",
    "2. *prefixes.txt*\n",
    "3. *suffixes.txt*"
   ]
  },
  {
   "cell_type": "code",
   "execution_count": 18,
   "metadata": {
    "pycharm": {
     "name": "#%%\n"
    }
   },
   "outputs": [
    {
     "name": "stdout",
     "output_type": "stream",
     "text": [
      "Load done\n"
     ]
    }
   ],
   "source": [
    "def evqr_word_and_suffix_callback(content):\n",
    "    for line in content.split('\\n')[1:-1]:\n",
    "        word, *affix_list = line.replace('-', '').split(' ')[:-1]\n",
    "        word_dict[word] = (Word(word, affix_list))\n",
    "if get_file('EVQR.word.and.affix.txt', evqr_word_and_suffix_callback):\n",
    "    print('Load done')"
   ]
  },
  {
   "cell_type": "code",
   "execution_count": 19,
   "metadata": {
    "pycharm": {
     "name": "#%%\n"
    }
   },
   "outputs": [
    {
     "name": "stdout",
     "output_type": "stream",
     "text": [
      "Load prefixes & suffixes done\n"
     ]
    }
   ],
   "source": [
    "def prefix_callback(content):\n",
    "    for line in content.split('\\n')[1:-1]:\n",
    "        known_prefixes.update(filter(lambda x: len(x) > 0, line[:-1].strip().replace('-', '').split(', ')))\n",
    "\n",
    "def suffix_callback(content):\n",
    "    for line in content.split('\\n'):\n",
    "        known_suffixes.update(filter(lambda x: len(x) > 0, line[:-1].strip().replace('-', '').split(', ')))\n",
    "\n",
    "if get_file('prefixes.txt', prefix_callback) and get_file('suffixes.txt', suffix_callback):\n",
    "    print('Load prefixes & suffixes done')"
   ]
  },
  {
   "cell_type": "markdown",
   "metadata": {},
   "source": [
    "## Labelize Word\n",
    "### Mapping Label Function\n",
    "because different label has its label function respectively"
   ]
  },
  {
   "cell_type": "code",
   "execution_count": 20,
   "metadata": {
    "pycharm": {
     "name": "#%%\n"
    }
   },
   "outputs": [
    {
     "name": "stdout",
     "output_type": "stream",
     "text": [
      "Mapping done\n"
     ]
    }
   ],
   "source": [
    "def evqr_affix(word):\n",
    "    text = word.text\n",
    "    label = [0] * len(text)\n",
    "    pos = 0\n",
    "    for affix in word.affix_list:\n",
    "        if affix.lower() in text:\n",
    "            label[text.find(affix, pos)] = 1 if pos != 0 else 0\n",
    "            pos = text.find(affix, pos) + len(affix)\n",
    "        else:\n",
    "            k = Word.letter_cmp(text[pos:], affix)\n",
    "            if k > 1:\n",
    "                label[pos] = 1 if pos != 0 else 0\n",
    "                pos += 1\n",
    "\n",
    "    return [t for t in zip(text, label)]\n",
    "\n",
    "def vowel(word):\n",
    "    vowels = {\"a\", \"e\", \"i\", \"o\", \"u\"}\n",
    "    return [(letter, int(letter in vowels)) for letter in word.text]\n",
    "\n",
    "def prefix_and_suffix(word):\n",
    "    word_len = len(word.text)\n",
    "    label = [0] * word_len\n",
    "\n",
    "    for i in range(word_len):\n",
    "        pattern = word.text[:word_len - 1 - i]\n",
    "        if pattern in known_prefixes:\n",
    "            label[len(pattern)] = 1\n",
    "\n",
    "    for i in range(word_len):\n",
    "        pattern = word.text[i + 1:]\n",
    "        if pattern in known_suffixes:\n",
    "            label[i] = 2 if label[i] == 0 else 3\n",
    "\n",
    "    return [t for t in zip(word.text, label)]\n",
    "\n",
    "label_func[EVQR_AFFIX] = evqr_affix\n",
    "label_func[VOWEL] = vowel\n",
    "label_func[PREFIX_AND_SUFFIX] = prefix_and_suffix\n",
    "print('Mapping done')"
   ]
  },
  {
   "cell_type": "markdown",
   "metadata": {},
   "source": [
    "### Create Label for each Word"
   ]
  },
  {
   "cell_type": "code",
   "execution_count": 21,
   "metadata": {
    "pycharm": {
     "name": "#%%\n"
    }
   },
   "outputs": [
    {
     "name": "stderr",
     "output_type": "stream",
     "text": [
      "100%|██████████| 5237/5237 [00:00<00:00, 64802.26it/s]"
     ]
    },
    {
     "name": "stdout",
     "output_type": "stream",
     "text": [
      "Label done\n"
     ]
    },
    {
     "name": "stderr",
     "output_type": "stream",
     "text": [
      "\n"
     ]
    }
   ],
   "source": [
    "for word in tqdm(word_dict.values()):\n",
    "    if not word.create_label(EVQR_AFFIX):\n",
    "        print('Failed at label with EVQR.affix')\n",
    "    if not word.create_label(VOWEL):\n",
    "        print('Failed at label with Vowel')\n",
    "    if not word.create_label(PREFIX_AND_SUFFIX):\n",
    "        print('Failed at label with prefix & suffix')\n",
    "print('Label done')"
   ]
  },
  {
   "cell_type": "code",
   "execution_count": 22,
   "metadata": {
    "pycharm": {
     "name": "#%%\n"
    }
   },
   "outputs": [
    {
     "name": "stdout",
     "output_type": "stream",
     "text": [
      "labeled by EVQR.word.and.suffix: ignoble -> [('i', 0), ('g', 0), ('n', 1), ('o', 0), ('b', 0), ('l', 0), ('e', 0)]\n",
      "labeled by prefix & suffix     : demagog -> [('d', 0), ('e', 0), ('m', 1), ('a', 0), ('g', 0), ('o', 0), ('g', 0)]\n",
      "labeled by position of vowels  : amphibology -> [('a', 1), ('m', 0), ('p', 0), ('h', 0), ('i', 1), ('b', 0), ('o', 1), ('l', 0), ('o', 1), ('g', 0), ('y', 0)]\n"
     ]
    }
   ],
   "source": [
    "print(f'labeled by EVQR.word.and.suffix: ignoble -> {word_dict[\"ignoble\"].label[EVQR_AFFIX]}')\n",
    "print(f'labeled by prefix & suffix     : demagog -> {word_dict[\"demagog\"].label[PREFIX_AND_SUFFIX]}')\n",
    "print(f'labeled by position of vowels  : amphibology -> {word_dict[\"amphibology\"].label[VOWEL]}')"
   ]
  },
  {
   "cell_type": "code",
   "execution_count": 9,
   "metadata": {
    "pycharm": {
     "name": "#%%\n"
    }
   },
   "outputs": [
    {
     "name": "stderr",
     "output_type": "stream",
     "text": [
      "100%|██████████| 5237/5237 [00:00<00:00, 1312709.62it/s]\n"
     ]
    }
   ],
   "source": [
    "prepared_word = []\n",
    "for word in tqdm(word_dict.values()):\n",
    "    prepared_word.append(word.label[PREFIX_AND_SUFFIX])"
   ]
  },
  {
   "cell_type": "code",
   "execution_count": 10,
   "metadata": {
    "pycharm": {
     "name": "#%%\n"
    }
   },
   "outputs": [],
   "source": [
    "def create_char_features(word, i):\n",
    "    features = [\n",
    "        'bias',\n",
    "        'char=' + word[i][0]\n",
    "    ]\n",
    "\n",
    "    if i >= 1:\n",
    "        features.extend([\n",
    "            'char-1=' + word[i-1][0],\n",
    "            'char-1:0=' + word[i-1][0] + word[i][0],\n",
    "        ])\n",
    "    else:\n",
    "        features.append(\"BOS\")\n",
    "\n",
    "    if i >= 2:\n",
    "        features.extend([\n",
    "            'char-2=' + word[i-2][0],\n",
    "            'char-2:0=' + word[i-2][0] + word[i-1][0] + word[i][0],\n",
    "            'char-2:-1=' + word[i-2][0] + word[i-1][0],\n",
    "        ])\n",
    "    return features\n",
    "\n",
    "\n",
    "def create_word_features(prepared_word):\n",
    "    return [create_char_features(prepared_word, i) for i in range(len(prepared_word))]\n",
    "\n",
    "\n",
    "def create_word_labels(prepared_word):\n",
    "    return [str(part[1]) for part in prepared_word]"
   ]
  },
  {
   "cell_type": "code",
   "execution_count": 28,
   "metadata": {
    "pycharm": {
     "name": "#%%\n"
    }
   },
   "outputs": [
    {
     "name": "stdout",
     "output_type": "stream",
     "text": [
      " \n",
      "['horoscope', 'heteroplasty', 'bicuspid', 'amebocyte', 'aquarelle', 'argentite', 'bidirectional', 'parallax', 'heteroploid', 'aquarium', 'perigee', 'epigenesis', 'bifid', 'autunite', 'cytochrome', 'quadraphonic', 'hepatica', 'bifocal', 'bauxite', 'hepatitis', 'aquavit', 'anamnesis', 'heterosporous', 'asymptote', 'perimenopause', 'quadrifid', 'paramedic', 'bornite', 'anapest', 'cytokinin', 'centimeter', 'quadrilateral', 'taconite', 'tachylite', 'invoke', 'paramilitary', 'proclaim', 'heterotroph', 'homeomorphism', 'calcite', 'irreverent', 'tantalite', 'tektite', 'quadripartite', 'centipede', 'anaphylaxis', 'perinatal', 'retinoscope', 'procrastinate', 'cytopathic', 'anaplasia', 'irrupt', 'binary', 'cassiterite', 'vocabulary', 'atom', 'centurion', 'paraphernalia', 'homograft', 'anastomosis', 'period', 'cinquecento', 'vociferous', 'paraplegia', 'cytotaxonomy', 'isocyclic', 'quadruple', 'vocoder', 'electrohydraulic', 'cytotoxin', 'paraprofessional', 'homologate', 'bipartite', 'anatropous', 'chlorite', 'uraninite', 'biped', 'proffer', 'neuroanatomy', 'elpquent', 'profligate', 'elongate', 'photophore', 'gametocyte', 'homophile', 'elite', 'quartan', 'hydride', 'vesuvianite', 'epitaph', 'parenchyma', 'diorite', 'tritanopia', 'hectare', 'catamenia', 'batholith', 'elicit', 'progeny', 'aerobatics', 'evaporite', 'midsection', 'parody', 'gadolinite', 'homopterous', 'hydrant', 'photolysis', 'pederasty', 'catabolism', 'sector', 'lithoid', 'geyserite', 'progress', 'macrocyte', 'hydraulic', 'didymous', 'tetrad', 'appendectomy', 'periphery', 'centralize', 'isopleth', 'epoch', 'atomics', 'illiterate', 'tetragrammaton', 'ebullient', 'megalith', 'cholecystectomy', 'isopod', 'tetrahedron', 'isosceles', 'colostomy', 'eponym', 'microlith', 'isosmotic', 'episiotomy', 'immiscible', 'telephoto', 'hysterectomy', 'photodynamics', 'conclusive', 'catalogue', 'hysterotomy', 'photodynamic', 'hydrogenate', 'aerometeorograph', 'prologue', 'equal', 'regolith', 'halophyte', 'immutable', 'include', 'heteronym', 'lepidolite', 'statolith', 'aerometer', 'pedicab', 'isotropic', 'diopside', 'heterophyte', 'limonite', 'bigamy', 'phytosociology', 'allomorph', 'bibliography', 'ramulose', 'colitis', 'voltammeter', 'magnetite', 'bibliolatry', 'millenarian', 'arboriculture', 'volumeter', 'bimanual', 'bibliomania', 'diapause', 'equilateral', 'axon', 'biaxial', 'bibliophile', 'retrorse', 'syntactics', 'psychobiology', 'patron', 'manicure', 'perennial', 'diaphragm', 'pleomorphism', 'retroversion', 'diarrhea', 'perissodactyl', 'platyrrhine', 'equitable', 'theatrics', 'diarrhoea', 'polydactyl', 'monochord', 'equity', 'rhinal', 'manubrium', 'gamogenesis', 'achromatic', 'syndactyl', 'rhinoceros', 'gamopetalous', 'monocline', 'monoclinous', 'manumit', 'gamophobia', 'barite', 'crematorium', 'diathermy', 'galactorrhea', 'typology', 'equivoke', 'quadrumanous', 'monodrama', 'heterogamous', 'baroreceptor', 'insectary', 'bioassay', 'oophoritis', 'angioplasty', 'mediocre', 'phytolite', 'antineoplastic', 'seborrhea', 'centibar', 'biochemistry', 'pisolite', 'dramaturge', 'decibar', 'pyrargyrite', 'disillusion', 'mesic', 'submarine', 'ultramarine', 'isogamy', 'monomial', 'zymology', 'electrodynamics', 'mater', 'erg', 'polyzoarium', 'epidiascope', 'hyaloplasm', 'rupture', 'monomorphic', 'microbar', 'heinihedral', 'bioenergetics', 'meson', 'neoplasm', 'mononuclear', 'microbarograph', 'mononucleosis', 'poliomyelitis', 'athletics', 'sclera', 'sanitarium', 'maternity', 'mesopause', 'lunation', 'ergophobia', 'sclerenchyma', 'matriclinous', 'lune', 'prostatitis', 'hemiparasite', 'misogamy', 'matrilineal', 'calisthenics', 'mesosphere', 'lunitidal', 'scheelite', 'pyelonephritis', 'trajectory', 'retinitis', 'endotoxin', 'transact', 'monophyletic', 'rhinitis', 'melancholia', 'transceiver', 'cyberphobia', 'siderite', 'matron', 'annuity', 'salpingitis', 'plasmolysis', 'arthritis', 'benefactress', 'analphabetic', 'transcript', 'bronchoscope', 'monopode', 'macroglobulinemia', 'biomathematics', 'transduction', 'gastroenteritis', 'ectotherm', 'spondylitis', 'gastrointestinal', 'erythrite', 'paternity', 'transept', 'gastrolith', 'macron', 'transfer', 'galvanoscope', 'monosaccharide', 'thrombophlebitis', 'photography', 'aeronomy', 'catechesis', 'utopia', 'catechetical', 'pentagram', 'photomicrograph', 'radiometer', 'cognition', 'impermeable', 'monotone', 'thermochemistry', 'lalophobia', 'logogriph', 'hydromechanics', 'impervious', 'geodesy', 'logomachy', 'phytography', 'pentapody', 'logophile', 'aeroplane', 'aerosol', 'planography', 'geology', 'monovalent', 'monoxide', 'recognize', 'misology', 'polygraph', 'peniaphobia', 'improvise', 'protasis', 'pornography', 'thermomagnetic', 'gnome', 'impudent', 'pyrography', 'nosology', 'impunity', 'thermoreceptor', 'hydrophobia', 'protrude', 'quintette', 'phraseology', 'sensitometer', 'quintile', 'unidirectional', 'thermosetting', 'uniform', 'speedometer', 'sialagogue', 'terminology', 'xerothermic', 'unify', 'selenography', 'provitamin', 'gynandrous', 'sphygmomanometer', 'incest', 'geotaxis', 'xenophobia', 'provost', 'hydrosphere', 'monandry', 'geotectonic', 'zoophobia', 'tropology', 'corporeal', 'antiphon', 'hexahedron', 'adverb', 'hydrotherapeutics', 'agrology', 'anthocyanin', 'unique', 'retract', 'verbalism', 'anthodium', 'hexastich', 'verbalist', 'tensimeter', 'hydrous', 'inconspicuous', 'gynecology', 'gynecomastia', 'osteoclasis', 'hydroxy', 'chrysanthemum', 'phonetic', 'thermometer', 'dianthus', 'hydroxyl', 'terrain', 'incredible', 'cosmogony', 'sextet', 'coxalgia', 'cosmography', 'univocal', 'sextile', 'terreplein', 'chemotropism', 'monanthous', 'heterogynous', 'parable', 'parabola', 'entropy', 'literate', 'parachute', 'literatim', 'indescribable', 'cosmos', 'archbishop', 'apodictic', 'otalgia', 'uranography', 'morphology', 'extracellular', 'trichromatic', 'sporangium', 'urochrome', 'centrum', 'metagalaxy', 'metagnathous', 'interfere', 'polyembryony', 'extrajudicial', 'polyglot', 'rhythmics', 'mythology', 'metamorphosis', 'vaginitis', 'entomophilous', 'adscript', 'epicenter', 'ethnocentric', 'interject', 'cardiomegaly', 'zoospore', 'physics', 'numerology', 'polynomial', 'transmarine', 'cardiophobia', 'oenophile', 'interloper', 'transmute', 'duct', 'reject', 'polypetalous', 'anarchy', 'synchronic', 'metastasis', 'orthocenter', 'philosophe', 'rescript', 'intermediary', 'ophiology', 'metathorax', 'scribble', 'thigmotaxis', 'mnemonics', 'scribe', 'telocentric', 'transpire', 'induce', 'intermolecular', 'endocarditis', 'nephology', 'photophilous', 'acetometer', 'polyrhythm', 'extravehicular', 'transsexual', 'chrysolite', 'toxophilite', 'metaethics', 'dicephalous', 'tropophilous', 'typescript', 'transuranic', 'interracial', 'telic', 'myocardium', 'aerodynamics', 'transverse', 'aggregate', 'affidavit', 'xanthein', 'acanthocephalan', 'altimeter', 'kilobyte', 'zoophile', 'xanthic', 'confidant', 'otology', 'pericardium', 'zoophilia', 'xanthine', 'intersperse', 'xanthoma', 'epexegesis', 'hermeneutics', 'cephalic', 'milliammeter', 'theodicy', 'penology', 'defuse', 'polyunsaturated', 'bolometer', 'astraphobia', 'automysophobia', 'epicanthus', 'glyptics', 'phlebology', 'ceilometer', 'epicene', 'encephalitis', 'epicotyl', 'clinometer', 'interfuse', 'germicide', 'phrenology', 'oligopoly', 'epicritic', 'blepharitis', 'downgrade', 'refuse', 'incarnadine', 'allogamy', 'gradation', 'dekameter', 'chiropter', 'semilogarithmic', 'eurypterid', 'heptaploid', 'biometry', 'hymenopterous', 'amaranth', 'malady', 'gradual', 'lepidopteran', 'aster', 'polygene', 'biopsy', 'credulous', 'semiprecious', 'endosmosis', 'ocular', 'ahimsa', 'semiprofessional', 'malapropism', 'asteroid', 'septuagenarian', 'oculomotor', 'endorphins', 'biosphere', 'intergrade', 'spectacular', 'orthograde', 'septuple', 'psychogenic', 'endoparasite', 'purge', 'exophthalmos', 'pronograde', 'exophthalmus', 'octal', 'agranulocyte', 'biotelemetry', 'endomysium', 'radiogenic', 'endomorphic', 'octant', 'retrograde', 'empyrean', 'analcite', 'saprogenic', 'iodopsin', 'dentate', 'maleficent', 'pyralid', 'upgrade', 'astronomy', 'agenesis', 'spermiogenesis', 'heliacal', 'endoenzyme', 'alexia', 'octodecimo', 'agamic', 'octogenarian', 'exosphere', 'disaster', 'endergonic', 'malicious', 'heliotaxis', 'teratogenic', 'ionosphere', 'necrobiosis', 'malign', 'dentistry', 'pyrometallurgy', 'polysaprobic', 'helium', 'decade', 'agrapha', 'autobiography', 'photopia', 'pyrostat', 'cryptogram', 'decaliter', 'spectrohelioscope', 'cryptography', 'decapod', 'autodidact', 'malpractice', 'event', 'hypervitaminosis', 'decrypt', 'autoerotism', 'gonophore', 'encrypt', 'endodontics', 'exodontics', 'ramate', 'decile', 'cyanic', 'microdont', 'hemal', 'autograft', 'odontology', 'cyanite', 'anencephaly', 'astrogeology', 'autoimmunity', 'exospore', 'geanticline', 'milliary', 'densimeter', 'persevere', 'zoo', 'rhodamine', 'neurectomy', 'millieme', 'persist', 'indomitable', 'ambient', 'dilatometer', 'ambiguous', 'pathogenesis', 'zooparasite', 'dosimeter', 'aphesis', 'parricide', 'anthropography', 'ambit', 'drunkometer', 'conspire', 'persuade', 'archipelago', 'rubasse', 'isogonic', 'neuroma', 'rhombencephalon', 'phytopathogen', 'apocope', 'telencephalon', 'amphibian', 'spiracle', 'peruse', 'anthropophagy', 'anthroposophy', 'inequality', 'rubella', 'millipede', 'femtometer', 'inequity', 'spermicide', 'neurosis', 'arachnoid', 'rubeola', 'neurosurgery', 'diarchy', 'tetragon', 'dyarchy', 'apogee', 'misanthropy', 'sympathy', 'bacteriophage', 'inexorable', 'apologetics', 'teniacide', 'trigonometry', 'telepathy', 'hypsometer', 'hagiarchy', 'apologia', 'rubiginous', 'export', 'antinomian', 'amphimixis', 'infallible', 'anemograph', 'ruby', 'hierarchy', 'infamous', 'meter', 'myrmecophagous', 'sextillion', 'septillion', 'intramolecular', 'infidel', 'icosahedron', 'monometer', 'antecede', 'circumcise', 'rapport', 'immigrate', 'phytophagous', 'amphitheater', 'abaxial', 'nephelometer', 'cacography', 'theonomous', 'apoplexy', 'undecillion', 'saprophagous', 'apospory', 'cartography', 'duodecillion', 'antonomasia', 'antechoir', 'sarcophagous', 'psyche', 'amphoteric', 'chirography', 'mesonephros', 'circumlocution', 'bichromate', 'circumambient', 'denomination', 'intrastate', 'sexdecillion', 'innominate', 'anabatic', 'circumnavigate', 'nomenclator', 'formicivorous', 'anabiosis', 'psychological', 'nomenclature', 'synesthesia', 'intravenous', 'crystallography', 'karyokinesis', 'nominal', 'democracy', 'apotheosis', 'circumsolar', 'digraph', 'nominate', 'kinetic', 'antepenultimate', 'anaclisis', 'electromyograph', 'psychosis', 'herbivore', 'introit', 'psychosocial', 'optokinetic', 'ethnography', 'anadiplosis', 'filmography', 'psychosomatic', 'homeopathy', 'hierocracy', 'onomatopoeia', 'psychrometer', 'periapt', 'chromic', 'aquamarine', 'introvert', 'allonym', 'pulsimeter', 'psychotropic', 'antonym', 'neuropathy', 'pycnometer', 'idolatry', 'monocracy', 'analects', 'graphemics', 'xenolith', 'dioxide', 'phytoplankton', 'obvert', 'vitals', 'phytosterol', 'histogenesis', 'carpogonium', 'vitamin', 'decasyllable', 'anaphrodisia', 'hematopoiesis', 'geomorphology', 'homograph', 'sporophyte', 'homolographic', 'gerontology', 'anomy', 'microampere', 'enneasyllable', 'diploma', 'hematuria', 'anonym', 'hygrograph', 'heme', 'graphology', 'hypsography', 'hemoglobin', 'microfarad', 'monocarpic', 'dipterous', 'octosyllable', 'pericarp', 'microgram', 'kymograph', 'lactogenic', 'distich', 'hydrology', 'hemophobia', 'microminiature', 'monolingual', 'anuria', 'pseudocarp', 'hyetology', 'aver', 'syllabary', 'veracious', 'micronutrient', 'syllable', 'aperiodic', 'diploblastic', 'apetalous', 'ectoblast', 'microphage', 'aphanite', 'lipid', 'microphone', 'aphotic', 'duet', 'microphotometer', 'septennial', 'erythroblast', 'holocaust', 'xenograft', 'neurogenic', 'lexicology', 'xeric', 'fibroblast', 'symposium', 'lipoprotein', 'hyperlipidemia', 'apodal', 'hematoblast', 'microprocessor', 'symptom', 'physicochemical', '', 'exceed', 'lipotropic', 'tripody', 'organogenesis', 'hypoglycemia', 'quindecennial', 'mammalogy', 'physique', 'lymphoblast', 'ischemia', 'ammonite', 'retrocede', 'andalusite', 'syncline', 'entozoon', 'aseptic', 'holozoic', 'pleuropneumonia', 'oxyhemoglobin', 'pyemia', 'hylozoism', 'pneuma', 'tricameral', 'pneumatic', 'sapremia', 'neuroblastoma', 'syndesmosis', 'microsporangium', 'pneumatolysis', 'petrography', 'syndicalism', 'phonograph', 'toxemia', 'triclinic', 'asthenia', 'synecdoche', 'laryngectomy', 'nyctitropism', 'pedipalp', 'syneresis', 'hypertension', 'submicroscopic', 'plutocracy', 'dermatitis', 'moribund', 'synkaryon', 'gastrovascular', 'cyclometer', 'slavocracy', 'hypertonic', 'stratocracy', 'mortician', 'technocracy', 'synonym', 'chiropody', 'cyclopedia', 'vagotropic', 'hypochondria', 'autonomy', 'pleopod', 'dermis', 'cyclorama', 'synostosis', 'megadeath', 'antigen', 'dermoid', 'trihedron', 'cyclostome', 'chromosome', 'megalomania', 'necropolis', 'cyclothymia', 'elocution', 'endermic', 'eurhythmy', 'trimaran', 'rhizopod', 'dichroism', 'hypophysis', 'trimer', 'protolanguage', 'schizopod', 'interlocutor', 'uropod', 'revolution', 'myoglobin', 'euthanasia', 'egocentric', 'eutrophic', 'megaton', 'protopathic', 'euxenite', 'eugenics', 'soliloquy', 'exogenous', 'megawatt', 'heterochromatic', 'fibrinogen', 'trioxide', 'pachyderm', 'volvox', 'rhabdomyoma', 'tripartite', 'pepsin', 'vasectomy', 'florigen', 'volvulus', 'vitrectomy', 'magnate', 'triennium', 'dyskinesia', 'auspicious', 'abulia', 'polycyclic', 'avian', 'hyperkinesis', 'hypoxia', 'advert', 'bidialectal', 'genotype', 'pediatrics', 'tripod', 'brachylogy', 'aviatrix', 'sophistic', 'animadversion', 'necromancy', 'physiatrics', 'dysphonia', 'paleobotany', 'gyroplane', 'perfunctory', 'collogue', 'aviculture', 'orthochromatic', 'gyroscope', 'avifauna', 'neocortex', 'perjury', 'ornithic', 'dysplasia', 'bouleversement', 'icon', 'permeate', 'paleography', 'hagiology', 'hyperoxia', 'paleomagnetism', 'aspect', 'neophyte', 'diagram', 'paleontography', 'homology', 'ornithopod', 'conspicuous', 'perorate', 'dialect', 'nephron', 'despise', 'heterogeneous', 'arboreal', 'idiom', 'inverse', 'invert', 'perpetual', 'dialogue']\n",
      " \n",
      "['asthenopia', 'hygroscope', 'centigrade', 'parallel', 'convocation', 'astigmatism', 'centigram', 'stromatolite', 'enormous', 'cytogenesis', 'proficient', 'aquatint', 'strontianite', 'devocalize', 'analyze', 'asymmetry', 'irradicable', 'philoprogenitive', 'emulsion', 'invocation', 'bilabial', 'epigraph', 'aqueous', 'polariscope', 'hepatotoxic', 'aquifer', 'paramnesia', 'semiaquatic', 'revoke', 'homeostasis', 'carnallite', 'cytomegalovirus', 'bimorphemic', 'iseikonia', 'tetrahedrite', 'analgesic', 'centipoise', 'paranormal', 'epinasty', 'thorite', 'homocercal', 'procumbent', 'emerge', 'quadrivalent', 'snooperscope', 'procure', 'cytoplasm', 'carbohydrate', 'atonal', 'cerussite', 'acrocarpous', 'periodic', 'acrocentric', 'dehydrate', 'spectroscopy', 'homoiothermic', 'parapodium', 'percentage', 'produce', 'atrophy', 'chiastolite', 'quadruplet', 'periodontics', 'periodontitis', 'acromegaly', 'glycogenolysis', 'stereoscope', 'quadruplicate', 'percentile', 'cryptanalysis', 'hemihydrate', 'perionychium', 'homomorphism', 'bipinnate', 'acromion', 'erythrocytometer', 'coprolite', 'hindquarter', 'epistle', 'stroboscope', 'acropetal', 'isogloss', 'isogram', 'parathyroidectomy', 'bipod', 'myasthenia', 'acatalectic', 'trecento', 'pneumatophore', 'isohyet', 'paratrooper', 'profuse', 'biquarterly', 'thermoscope', 'biramous', 'ignoble', 'hectogram', 'sporangiophore', 'hydrocephalus', 'homoplastic', 'quartet', 'paresis', 'isometric', 'bivalent', 'aerial', 'leukocyte', 'sectile', 'epitome', 'lithiasis', 'gahnite', 'photoelectric', 'illegible', 'lymphocyte', 'prognosticate', 'dichloride', 'photomicroscope', 'peripeteia', 'aerobic', 'glauconite', 'homothallic', 'pedophilia', 'peripheral', 'aerobics', 'epizootic', 'egress', 'photoreceptor', 'epizootiology', 'hydraulics', 'melanocyte', 'aerodrome', 'photosensitive', 'digamma', 'heteroclite', 'microcyte', 'expedient', 'periphrastic', 'hydrodynamics', 'immaculate', 'impedance', 'tetraploid', 'heteroecious', 'immediate', 'centrifugal', 'photosynthesis', 'halite', 'impede', 'mesothelium', 'prolegomenon', 'hydrofoil', 'osteocyte', 'telodynamic', 'monolith', 'prolepsis', 'aerolith', 'ilmenite', 'isostasy', 'immortal', 'aeromechanics', 'centrist', 'phytolith', 'tetraspore', 'heteronomous', 'hydrogenase', 'isothermal', 'tetrastich', 'hydrography', 'heterodyne', 'heterophyllous', 'hygrophyte', 'hydroid', 'centromere', 'pronephros', 'equate', 'laparotomy', 'urolith', 'aeroneurosis', 'hydrokinetics', 'mythomania', 'magnesite', 'arborescent', 'conjunctivitis', 'pneumatology', 'diameter', 'artiodactyl', 'pomology', 'achromic', 'statistics', 'proctology', 'manacle', 'annual', 'millerite', 'patristic', 'exogamy', 'equilibrium', 'molybdenite', 'gamete', 'bibliophobia', 'dactylology', 'monahthous', 'paramorph', 'patroness', 'monaxial', 'equipoise', 'gametogenesis', 'nephelinite', 'monastery', 'acotyledon', 'repatriate', 'pseudomorph', 'manual', 'tocology', 'mediaeval', 'therapeutics', 'medial', 'thermionics', 'monocle', 'toxicology', 'median', 'diastrophism', 'gamosepalous', 'mediastinum', 'myelitis', 'formicary', 'diathesis', 'nephritis', 'diatom', 'barometer', 'medieval', 'unequal', 'zootechnics', 'epidemic', 'phonolite', 'pyorrhea', 'mortuary', 'medium', 'marine', 'monoecious', 'dieresis', 'allergy', 'osteitis', 'volcanology', 'autoplasty', 'diopter', 'demigod', 'monogram', 'maritime', 'demimonde', 'bioconversion', 'demisemiquaver', 'energy', 'corrupt', 'pyrolusite', 'acoustooptics', 'monomorphemic', 'hemidemisemiquaver', 'materfamilias', 'ergograph', 'sacrarium', 'phlebitis', 'arteriosclerosis', 'hemimetabolic', 'isodiametric', 'polyneuritis', 'monopetalous', 'osteoplasty', 'neurotransmitter', 'misogamist', 'scapolite', 'monophobia', 'sudatorium', 'monogamy', 'matrilocal', 'isopiestic', 'cliometrics', 'monophthong', 'sclerosis', 'selenite', 'biohazard', 'rebellion', 'superlunary', 'decennium', 'benefactor', 'semiannual', 'gastrectomy', 'synergy', 'sclerotomy', 'dysgenics', 'sodalite', 'macroclimate', 'decennial', 'arthrodesis', 'zymurgy', 'plastic', 'arthropathy', 'plastid', 'semiconductor', 'monopoly', 'melanophore', 'stalactite', 'benign', 'paternoster', 'maladapted', 'patrician', 'erythrophobia', 'transfigure', 'semiliterate', 'omniscient', 'logo', 'omnivorous', 'logogram', 'geochronology', 'hodophobia', 'catechize', 'logography', 'photozincography', 'refractometer', 'monotonous', 'pandect', 'hydromedusa', 'geography', 'pentastich', 'monotypic', 'panegyric', 'prorogue', 'hydrometallurgy', 'nostophobia', 'thermoelectricity', 'nyctophobia', 'pentathlon', 'logotype', 'aerospace', 'impotent', 'pluviometer', 'panophobia', 'plethysmograph', 'hydrometer', 'impregnable', 'aerosphere', 'pneumograph', 'aerostat', 'potentiometer', 'reunion', 'phasmophobia', 'quinquagenarian', 'hydropathy', 'geognosy', 'geophagy', 'psychograph', 'triune', 'neologism', 'androgen', 'quintessence', 'androgenous', 'gnomon', 'psychrophobia', 'inadvertent', 'gnosis', 'philology', 'pyrophobia', 'seismometer', 'orthoclase', 'geopolitics', 'soteriology', 'geoponics', 'sociometry', 'pharmacognosy', 'pedagogue', 'quintuplet', 'thermostable', 'diandrous', 'orthorhombic', 'spherometer', 'tetralogy', 'synagog', 'serigraphy', 'misandry', 'attract', 'trilogy', 'hydrostatics', 'incognizant', 'antheridium', 'uniparous', 'sphygmograph', 'distract', 'hexaploid', 'extract', 'verbal', 'inconclusive', 'phytogeography', 'corpulent', 'osteosarcoma', 'stereography', 'hexavalent', 'corpuscle', 'teleost', 'phoneme', 'hexose', 'algophobia', 'verbatim', 'phonemics', 'unite', 'tractor', 'incorrigible', 'verbiage', 'cosmic', 'univalent', 'gynecopathy', 'osteoclast', 'subterranean', 'tiltmeter', 'sextant', 'trophic', 'hydrozoan', 'helianthus', 'universe', 'telegraph', 'hydranth', 'incredulous', 'verve', 'osteomalacia', 'sextette', 'telephotography', 'literal', 'metralgia', 'plasmasol', 'turbidimeter', 'literary', 'cosmonaut', 'hologynic', 'cosmopolis', 'perianth', 'esotropia', 'sextuple', 'neuralgia', 'paradigm', 'phonotype', 'bichloride', 'trigraph', 'paragon', 'viscosimeter', 'nonliterate', 'idiot', 'venography', 'sferics', 'concentrate', 'concentric', 'myrmecology', 'coprophilous', 'transient', 'sporozoan', 'extrovert', 'chronograph', 'pyrotechnics', 'drosophila', 'cardiograph', 'chronology', 'neuropathology', 'cardioid', 'metaphase', 'teleutospore', 'dynamotor', 'nomology', 'dynamometer', 'halophilic', 'polymorphonuclear', 'translucent', 'interleave', 'inscribe', 'hygrophilous', 'cardiopathy', 'polynuclear', 'manuscript', 'neutrophil', 'interlinear', 'stereotaxis', 'extrapolate', 'orthopedics', 'hypocenter', 'postscript', 'ductile', 'transnational', 'interlunar', 'subject', 'transparent', 'educe', 'extrauterine', 'microphysics', 'neonatology', 'teleconference', 'philtre', 'induct', 'telegrm', 'metrics', 'extravasation', 'transport', 'psychrophilic', 'nephrology', 'juncture', 'reduce', 'extravert', 'transude', 'chrysophyte', 'megalocardia', 'alcoholometer', 'orology', 'kilo', 'polytechnic', 'kilobit', 'interrogate', 'xanthene', 'interrupt', 'telophase', 'anatomy', 'atheist', 'confide', 'epact', 'brachycephalic', 'homiletics', 'megakaryocyte', 'histrionics', 'diffident', 'epenthesis', 'parapsychology', 'zoophilous', 'millepede', 'perfidy', 'parasitology', 'atmometer', 'contradict', 'planimeter', 'gregarious', 'interval', 'amaxophobia', 'theomachy', 'aggress', 'cephalization', 'dedicate', 'carnassial', 'theophany', 'polyuria', 'intervocalic', 'dictate', 'ephemeris', 'electrothermal', 'kilogram', 'polyvalent', 'diction', 'adenitis', 'epicalyx', 'fuse', 'calorimeter', 'encephalic', 'infuse', 'dictum', 'phonology', 'lymphadenitis', 'digitigrade', 'encephalograph', 'decameter', 'euthenics', 'homicide', 'caruncle', 'gradate', 'accredit', 'prospective', 'paronym', 'endosteum', 'phytogenic', 'pseudonym', 'tautonym', 'credo', 'anaesthesia', 'heptavalent', 'respective', 'polygenesis', 'toponymy', 'malapportionment', 'endoscope', 'malapropos', 'biosocial', 'compurgation', 'malaria', 'astrocytoma', 'psychogenesis', 'neoorthodoxy', 'plantigrade', 'endophyte', 'cryogen', 'amorphous', 'malefaction', 'semiweekly', 'antipyretic', 'astronaut', 'semiyearly', 'agamogenesis', 'biotic', 'malefic', 'octavalent', 'endomorph', 'cryophyte', 'pyracantha', 'suspect', 'biotope', 'agonic', 'endogenous', 'endogamy', 'anthelion', 'nyctalopia', 'cryoscopy', 'astrophotography', 'spermatogenesis', 'pyretic', 'ommatidium', 'octette', 'ensphere', 'ophthalmia', 'malfunction', 'syngenesis', 'ophthalmic', 'endocrine', 'microbe', 'dentil', 'heliostat', 'telegenic', 'crypt', 'dentine', 'evolute', 'octopus', 'heliotherapy', 'terrigenous', 'thermogenesis', 'afebrile', 'cryptocrystalline', 'evocative', 'optics', 'evident', 'decagram', 'planisphere', 'denture', 'panoptic', 'decahedron', 'malodorous', 'porphyropsin', 'pyroxene', 'sphere', 'eventuate', 'zymogen', 'spheroid', 'gonad', 'anaerobe', 'devitalize', 'labiodental', 'malversation', 'spherule', 'tridentate', 'radicle', 'ovoviviparous', 'radish', 'redivivus', 'galactosemia', 'hemagglutination', 'revive', 'anemia', 'autograph', 'unsphere', 'theogony', 'ramify', 'eudemonism', 'ramose', 'ascospore', 'hematinic', 'eugenic', 'dekaliter', 'anesthesia', 'autointoxication', 'vitalism', 'hemocyanin', 'erythropoiesis', 'indocile', 'larvicide', 'archegonium', 'rhodium', 'pneumonic', 'pathetic', 'gonion', 'neurilemma', 'zoonosis', 'myelencephalon', 'inedible', 'archesporium', 'pathological', 'dosimetry', 'archetype', 'aphorism', 'oxycephaly', 'pathos', 'inspire', 'anthropometry', 'phytopathology', 'extensometer', 'nonagon', 'rodenticide', 'architectonics', 'perturb', 'anticline', 'archon', 'amphibious', 'perverse', 'millisecond', 'suspire', 'gravimeter', 'quindecagon', 'rubicund', 'milliwatt', 'cerebrospinal', 'disport', 'hygrometer', 'ennead', 'amphibrach', 'eparchy', 'rubidium', 'exocrine', 'tyrannicide', 'intracellular', 'uxoricide', 'intracutaneous', 'allograph', 'quadrillion', 'vermicide', 'apology', 'euryphagous', 'antinomy', 'zoanthropy', 'apolune', 'angiography', 'craniology', 'porter', 'aesthetic', 'antebellum', 'circumambulate', 'bathythermograph', 'portmanteau', 'amphistylar', 'apophthegm', 'taxonomy', 'nonillion', 'esthesiometer', 'craniotomy', 'monarchy', 'circumference', 'multilateral', 'antecessor', 'esthetic', 'octameter', 'multiparous', 'infirmity', 'extracranial', 'amphithecium', 'multivalent', 'hyperaesthesia', 'calligraphy', 'intracranial', 'inimical', 'patriarch', 'cognomen', 'intrapsychic', 'inimitable', 'denominate', 'hypoesthesia', 'choreography', 'chroma', 'thearchy', 'octodecillion', 'psychoactive', 'chromaffin', 'antemortem', 'cinematography', 'novemdecillion', 'chromatic', 'psychomotor', 'chromatics', 'introgression', 'antipathy', 'democrat', 'apotropaic', 'insipid', 'prenuptial', 'onomastic', 'chromatin', 'photometry', 'onomasticon', 'aquacade', 'introrse', 'idiopathy', 'insuperable', 'piscivorous', 'psychotherapy', 'postdiluvian', 'voracious', 'aquanaut', 'perichondrium', 'aquaplane', 'isozyme', 'anisogamous', 'vitality', 'balneology', 'zoolatry', 'radioisotope', 'carpel', 'anisogamy', 'graphite', 'macrophyte', 'reverse', 'phytotoxic', 'homogenize', 'hematophagous', 'diplex', 'vivace', 'leukoma', 'dissymmetry', 'diplococcus', 'leukopenia', 'saprophyte', 'historiography', 'vivacious', 'diploe', 'versant', 'anomie', 'hematozoon', 'endocarp', 'thallophyte', 'diplopod', 'cunnilingus', 'mesocarp', 'microevolution', 'helminthology', 'version', 'iconography', 'lingual', 'herpetology', 'idiograph', 'blastocyst', 'hemolysis', 'microfilm', 'polysyllable', 'megasporophyll', 'hemophilia', 'vertical', 'blastodisk', 'horology', 'lithography', 'polysyndeton', 'microsporophyll', 'macrograph', 'hemoptysis', 'vertigo', 'magnetograph', 'monogenesis', 'trilingual', 'quinquennium', 'hypnology', 'hemorrhoidectomy', 'ichthyology', 'syllepsis', 'phylloxera', 'hemostat', 'mutagen', 'ectomere', 'symbol', 'immunology', 'microphobia', 'endoblast', 'cauterize', 'hypercalcemia', 'xanthophyll', 'symphony', 'hyperemia', 'microphyte', 'lipophilic', 'hyperglycemia', 'symphysis', 'cede', 'apnoea', 'concede', 'azoic', 'hypocalcemia', 'hypoblast', 'intercede', 'apteral', 'physiotherapy', 'orogeny', 'microscope', 'oceanography', 'precede', 'orthogenesis', 'synapsis', 'azoturia', 'oxygen', 'triad', 'organography', 'orography', 'bronchopneumonia', 'pangenesis', 'syncope', 'oscillograph', 'parthenogenesis', 'cent', 'septicemia', 'thalassemia', 'microsurgery', 'centavo', 'mineralogy', 'phonography', 'pneumoconiosis', 'gastropod', 'microwave', 'physiocracy', 'dermal', 'syndicate', 'synesis', 'thermotropism', 'chromodynamics', 'chemoautotrophic', 'trierarch', 'mastectomy', 'thigmotropism', 'trifecta', 'velocipede', 'valedictorian', 'dermatome', 'branchiopod', 'synoecious', 'euphonious', 'dermatoplasty', 'euphoria', 'postmortem', 'cyclops', 'euphotic', 'chromophore', 'hypochondrium', 'convoluted', 'vindictive', 'necrophilia', 'chromoprotein', 'prothonotary', 'euploid', 'necrophobia', 'hypoglossal', 'cenogenesis', 'trilobate', 'hypolimnion', 'autosome', 'protocol', 'syntax', 'trilobite', 'collagen', 'abranchiate', 'encyclical', 'involute', 'megalosaur', 'eloquent', 'encyclopaedia', 'sauropod', 'autotroph', 'encyclopedia', 'actomyosin', 'hypopituitarism', 'locution', 'gyral', 'megasporangium', 'embryogenesis', 'semiautonomous', 'loquacious', 'myoma', 'tonsillotomy', 'expel', 'tracheotomy', 'gyro', 'dyscrasia', 'ostracoderm', 'dysentery', 'protoplast', 'myotonia', 'volute', 'lex', 'protostele', 'hyperborean', 'lexeme', 'isocytlic', 'acephalous', 'gene', 'dysgraphia', 'homochromatic', 'egotistical', 'lexicography', 'native', 'magnificent', 'hyperextension', 'zootomy', 'generic', 'adversity', 'nativity', 'acentric', 'xeroderma', 'triplicate', 'perfect', 'recycle', 'geriatrics', 'triploid', 'prenatal', 'diacritic', 'gyromagnetic', 'neoclassic', 'hyperon', 'trireme', 'podiatry', 'dysphoria', 'hyperopia', 'glycogen', 'psychiatry', 'diagenesis', 'gyrus', 'sophomoric', 'glycogenesis', 'spirogyra', 'dyspnea', 'iconoclast', 'ornithischian', 'dipsomania', 'convert', 'iconolatry', 'neoteny', 'conspectus', 'diverse', 'iconology', 'pernicious', 'acedia', 'kleptomania', 'peroral', 'tritheism', 'polychrome', 'abyss', 'hepatogenic', 'dysuria', 'logaoedic', 'polychromy', 'hyperpnea', 'logic']\n",
      " \n",
      "['paralegal', 'staurolite', 'analogy', 'quadrangle', 'steatite', 'analysis', 'postnasal', 'asthenosphere', 'stibnite', 'cytochemistry', 'heteropterous', 'epigenous', 'perikaryon', 'parallelogram', 'boehmite', 'sylvanite', 'oscilloscope', 'hepatoma', 'hepatomegaly', 'irrefutable', 'epigraphy', 'emoliient', 'anaphase', 'guadrille', 'perimysium', 'epilimnion', 'ataraxia', 'epimysium', 'perinephrium', 'homocyclic', 'emigrate', 'quadrisect', 'perineurium', 'terraqueous', 'anaptyxis', 'epineurium', 'isoantibody', 'tremolite', 'celestite', 'isobath', 'spectroscope', 'cytostatic', 'prodigal', 'isocline', 'quadruped', 'atony', 'prodrome', 'dehydrogenase', 'episode', 'bipartisan', 'troostite', 'acrodont', 'ctenophore', 'emaciate', 'epistasis', 'endocytosis', 'proem', 'avitaminosis', 'epistaxis', 'profess', 'parasite', 'elucidate', 'azygous', 'acronym', 'homonym', 'hydrangea', 'periostitis', 'exocytosis', 'vermiculite', 'cuprite', 'tricentennial', 'acropolis', 'granulocyte', 'periscope', 'acrosome', 'hemacytometer', 'quarterly', 'zeolite', 'epitasis', 'hemocyte', 'quartern', 'isomerase', 'bisect', 'hectograph', 'hemocytometer', 'sporophore', 'bisexual', 'hectoliter', 'histiocyte', 'catapult', 'epithet', 'phot', 'peristyle', 'hectometer', 'resection', 'quartic', 'biweekly', 'prognostic', 'biocatalyst', 'peritoneum', 'lithic', 'quartile', 'aerobe', 'areocentric', 'eject', 'isomorphism', 'catabolite', 'hydrate', 'ejaculate', 'tetrachord', 'didymium', 'illiberal', 'lithosphere', 'illicit', 'lithotomy', 'mastoidectomy', 'periphrasis', 'catadromous', 'expedite', 'epode', 'catafalque', 'oocyte', 'hydroelectric', 'dimer', 'aerolite', 'catalepsy', 'monolithic', 'catalog', 'centripetal', 'phagocyte', 'heteromorphic', 'tetrapterous', 'pedestal', 'centrobaric', 'polycythemia', 'phytoalexin', 'tetrose', 'centrosome', 'catatonia', 'equation', 'voltameter', 'patriclinous', 'axial', 'demographics', 'patrilineal', 'spherics', 'ramus', 'arboretum', 'axile', 'retrofit', 'voltmeter', 'enantiomorph', 'bibliomancy', 'deuterogamy', 'retroflex', 'primatology', 'retronym', 'wattmeter', 'diapedesis', 'bibliopegy', 'supersonics', 'retrorocket', 'glomerulonephritis', 'diaphanous', 'manage', 'equinox', 'maneuver', 'monad', 'diaphoresis', 'morphine', 'iritis', 'tactics', 'pentadactyl', 'gametophore', 'monaural', 'laryngitis', 'nephelite', 'mastitis', 'electrodynamometer', 'diaspora', 'uniaxial', 'diastole', 'tonetics', 'oolite', 'endotherm', 'baric', 'ozocerite', 'tribology', 'toreutics', 'abiotic', 'equivocate', 'theriomorphic', 'ultrasonics', 'zoomorphic', 'barograph', 'demography', 'vitries', 'mediate', 'zoomorphism', 'biogenic', 'mariculture', 'allude', 'monody', 'pyorrhoea', 'baryon', 'millennium', 'virology', 'monoglot', 'delude', 'oceanarium', 'biocide', 'hypergamy', 'vulcanology', 'abrupt', 'dioptometer', 'hyperbaric', 'blepharoplasty', 'geodynamics', 'ossuary', 'isogamete', 'pancreatitis', 'cislunar', 'isobar', 'parotitis', 'aesthetics', 'quartzite', 'ergometer', 'microgamete', 'ergonomics', 'lunatic', 'hemimorphic', 'bellicose', 'biofeedback', 'saprolite', 'mesophyte', 'avionics', 'plasma', 'monophagous', 'sclerite', 'pyelitis', 'belligerent', 'traject', 'mesothelioma', 'monophony', 'liturgy', 'mesothorax', 'plasmin', 'vespiary', 'hemisphere', 'matrimony', 'polygamy', 'biography', 'hemistich', 'plasmodium', 'transcend', 'dramatics', 'transcribe', 'biology', 'rhodochrosite', 'thaumaturgy', 'expatriate', 'melanism', 'biomass', 'plaster', 'gastric', 'sialadenitis', 'macroevolution', 'transducer', 'biomaterial', 'achromatin', 'sinusitis', 'melanoma', 'semicolon', 'ekistics', 'spherulite', 'cystoscope', 'biome', 'rhinoplasty', 'sarcoplasm', 'semidiurnal', 'tendinitis', 'fluoroscope', 'stalagmite', 'biomedicine', 'arthrospore', 'somatoplasm', 'gastronomy', 'macronucleus', 'melaphyre', 'semifinal', 'gymnophobia', 'thermic', 'pyrophotometer', 'geochemistry', 'thermion', 'aeropause', 'hydromagnetics', 'pentahedron', 'pancreas', 'geode', 'prophet', 'pentaploid', 'mysophobia', 'physiography', 'implacable', 'rheometer', 'implausible', 'hydromel', 'cathedra', 'pictograph', 'propitiate', 'logorrhea', 'recognizance', 'catheter', 'hydrometeor', 'geomagnetism', 'thermoelectron', 'proscribe', 'thermolabile', 'pentose', 'ophidiophobia', 'panoply', 'prostyle', 'pentoxide', 'disunion', 'thermolysis', 'demagog', 'monologue', 'hypercatalectic', 'geomorphic', 'necrology', 'prothesis', 'quinquevalent', 'geophone', 'salinometer', 'euphemism', 'hypnagogic', 'unicameral', 'pantomime', 'sclerometer', 'geophysics', 'unicorn', 'protuberant', 'gnostic', 'orthoepy', 'radiotelegraph', 'thermos', 'androphobia', 'pathognomonic', 'inane', 'androsterone', 'scenography', 'spectrometer', 'thanatophobia', 'unifoliolate', 'inapt', 'pedagogy', 'quintuplicate', 'geostationary', 'thermostat', 'proviso', 'hydrosol', 'abstract', 'venereophobia', 'corporate', 'trialogue', 'hydrospace', 'unilinear', 'hexadecimal', 'spirometer', 'shadowgraph', 'orthostichous', 'stichometry', 'anther', 'detract', 'corposant', 'polyandry', 'tachometer', 'epigynous', 'spirograph', 'unipolar', 'hypogeum', 'osteoporosis', 'stenography', 'phon', 'hydrothermal', 'gynecocracy', 'zoogeography', 'telemetry', 'phonate', 'anthology', 'inconsonant', 'algolagnia', 'stratigraphy', 'mediterranean', 'hydrothorax', 'corpus', 'unit', 'anthozoan', 'incorporeal', 'arthralgia', 'terrace', 'sext', 'cardialgia', 'phonetics', 'osteoid', 'university', 'terrane', 'trimeter', 'allotropy', 'thermograph', 'phonon', 'bicameral', 'terrestrial', 'indelible', 'archaeology', 'sextodecimo', 'archaeopteryx', 'hypogynous', 'indemnify', 'polyanthus', 'topography', 'literati', 'misogynist', 'effloresce', 'sextuplet', 'biconcave', 'heptad', 'viscometer', 'misogyny', 'macrocosm', 'odontalgia', 'biconvex', 'amblygonite', 'paralanguage', 'inotropic', 'typography', 'monogyny', 'efflorescence', 'hendecahedron', 'metabolism', 'preliterate', 'mycology', 'basophil', 'polyclinic', 'triliteral', 'xerography', 'tracheitis', 'urethritis', 'semantics', 'polydipsia', 'coprophilia', 'extragalactic', 'robotics', 'uveitis', 'cardiac', 'abductor', 'zoography', 'transit', 'interferon', 'extralegal', 'scriptwriter', 'dynamoelectric', 'intergalactic', 'polymath', 'sporulation', 'transitive', 'prosthetics', 'extramarital', 'eosinophil', 'vulvovaginitis', 'conducive', 'translate', 'poetics', 'abject', 'teliospore', 'conduct', 'conjecture', 'deject', 'pharmaceutics', 'heliocentric', 'metaprotein', 'oenology', 'orthotics', 'duce', 'dynamo', 'extraordinary', 'polypeptide', 'cardiopulmonary', 'extrasensory', 'interlude', 'prescribe', 'philhellene', 'adjunct', 'thermotaxis', 'polycentrism', 'synchronous', 'philosophy', 'conjunction', 'electrocardiograph', 'ophthalmology', 'polyphyletic', 'metopic', 'chrysarobin', 'accelerometer', 'introduce', 'subscript', 'metaphysics', 'telesis', 'superscribe', 'telestich', 'interpellate', 'acidimeter', 'ornithology', 'teletypewriter', 'interpolate', 'polysaccharide', 'interpose', 'mechanics', 'thermojunction', 'viaduct', 'alkalimeter', 'dolichocephalic', 'logistics', 'transvestite', 'aerothermodynamics', 'micromillimeter', 'abdicate', 'henotheism', 'anemometer', 'benediction', 'millesimal', 'polytrophic', 'agoraphobia', 'audiometer', 'polytypic', 'contraindicate', 'intervene', 'aggression', 'bathymetry', 'pharmacology', 'cephalometer', 'ecocide', 'kilocycle', 'gnotobiotics', 'effuse', 'carnelian', 'cephalometry', 'appendicitis', 'dictionary', 'poikilotherm', 'claustrophobia', 'carnivorous', 'edict', 'coitophobia', 'indict', 'herbicide', 'therm', 'bronchitis', 'thermae', 'decimeter', 'epigastrium', 'phytology', 'predicate', 'heptameter', 'phylogeny', 'grade', 'amnesia', 'gradin', 'creditor', 'semimonthly', 'plasmagene', 'semiparasite', 'graduate', 'semipermeable', 'biorhythm', 'polygenism', 'pterygoid', 'septette', 'anacoluthon', 'semiquaver', 'amnesty', 'expurgate', 'endoplasm', 'specter', 'astrodynamics', 'agnosia', 'coreopsis', 'biota', 'astrolabe', 'cryogenics', 'astrometry', 'bidentate', 'retrogress', 'rhizogenic', 'dental', 'astronavigation', 'octave', 'myopia', 'malevolent', 'octet', 'dentiform', 'malfeasance', 'malformation', 'astrophysics', 'pyrexia', 'endocrinology', 'heliometer', 'pyrochemical', 'octoploid', 'pyroclastic', 'estrogen', 'autacoid', 'dentin', 'amethyst', 'pyroelectricity', 'autarky', 'agraphia', 'optician', 'oosphere', 'malinger', 'autism', 'toxicogenic', 'pyrope', 'autoantibody', 'cryptogam', 'dentoid', 'pyrosis', 'malocclusion', 'evict', 'pyrheliometer', 'edentulous', 'symbiosis', 'pyroxylin', 'interdental', 'cryptomeria', 'cryptozoite', 'adytum', 'stereopsis', 'gonococcus', 'dyslogistic', 'azotemia', 'thanatopsis', 'autogamy', 'dysphemism', 'gonopore', 'stratopause', 'decibel', 'autogenesis', 'amenorrhea', 'evacuate', 'ambrosia', 'erupt', 'ramification', 'eudaemonism', 'omnificent', 'decimal', 'telegony', 'survive', 'erudite', 'hematic', 'decuple', 'anaemia', 'odontophore', 'erode', 'orthodontics', 'ramous', 'pleurodont', 'euglena', 'persecute', 'zodiac', 'neural', 'osteopathy', 'philogyny', 'matricide', 'goniometer', 'archenteron', 'perspective', 'apheresis', 'indubitable', 'microcephaly', 'neuroblast', 'inspect', 'orthocephalous', 'neurofibril', 'millihenry', 'perspire', 'anthropoid', 'inefficacious', 'revolver', 'zygote', 'apocalypse', 'prosencephalon', 'ambivert', 'ineluctable', 'respire', 'psychopath', 'cerebellum', 'pervade', 'psychopathology', 'galvanometer', 'millirem', 'neuropterous', 'rubellite', 'psychopathy', 'gasometer', 'dysphagia', 'apodosis', 'millivolt', 'retinopathy', 'pervert', 'apogamy', 'suicide', 'sociopath', 'pervious', 'million', 'coprophagous', 'amphictyony', 'philanthropist', 'exoskeleton', 'inclinometer', 'trimetrogon', 'craniocerebral', 'heptarchy', 'apologue', 'psychoneurosis', 'heresiarch', 'therianthropic', 'decerebrate', 'amphipod', 'craniate', 'portamento', 'fauna', 'aesthete', 'ancestry', 'amphiprostyle', 'haploid', 'menarche', 'esthesia', 'octillion', 'craniometry', 'rhizophagous', 'esthete', 'agnomen', 'support', 'antechamber', 'intrapersonal', 'amphora', 'circumfuse', 'pentarchy', 'stenophagous', 'tredecillion', 'hyperesthesia', 'pericranium', 'psychedelic', 'hypesthesia', 'tetrarchy', 'psychic', 'innocuous', 'misnomer', 'apivorous', 'parameter', 'oviparous', 'intrauterine', 'antenatal', 'penult', 'apothem', 'telesthesia', 'granivorous', 'psychosexual', 'kinetin', 'photometer', 'plasmapheresis', 'gerontocracy', 'insolent', 'histopathology', 'herbivorous', 'chromatolysis', 'aqua', 'monomania', 'circumvent', 'insouciant', 'glossographer', 'psychometry', 'postdate', 'anaglyph', 'paronomasia', 'simile', 'graph', 'grapheme', 'demonolatry', 'posthypnotic', 'chrominance', 'brachypterous', 'extra', 'static', 'chromite', 'macronutrient', 'heterogenous', 'phyton', 'reincarnation', 'macrophage', 'bioecology', 'stereoisomer', 'campanology', 'homogeneous', 'macroscopic', 'enology', 'escapology', 'macrosporangium', 'anomaly', 'hypogene', 'versatile', 'hendecasyllable', 'verse', 'glaciology', 'epicarp', 'diplopia', 'micrococcus', 'versicle', 'viviparous', 'exocarp', 'idiosyncrasy', 'microelectronics', 'hemoflagellate', 'vivisection', 'anorexia', 'xerophyte', 'ideography', 'zoophyte', 'anosmia', 'isograph', 'linguist', 'disaccharide', 'anoxemia', 'ketogenesis', 'anoxia', 'blastogenesis', 'septisyllable', 'metagenesis', 'blastomere', 'multilingual', 'phylloclade', 'sublingual', 'blastula', 'neodymium', 'phylloid', 'meteorograph', 'micrograph', 'verify', 'unilingual', 'ideology', 'caustic', 'symmetry', 'myogenic', 'mimeograph', 'sympatric', 'encaustic', 'lipolysis', 'nephrogenous', 'laryngology', 'myocardiograph', 'erythroblastosis', 'apnea', 'myograph', 'duodecimal', 'ontogeny', 'duodecimo', 'hyperuricemia', 'apraxia', 'duplex', 'malacology', 'synalepha', 'idioblast', 'hypoxemia', 'synod', 'apteryx', 'superphysical', 'metapsychology', 'megaloblast', 'meteorology', 'syncretism', 'mesoblast', 'bicentennial', 'saprozoic', 'microclimatology', 'triceps', 'pneumobacillus', 'pepsinogen', 'scyphozoan', 'pneumococcus', 'pharmacogenetics', 'centenarian', 'photogenic', 'centennial', 'hypersonic', 'predict', 'autolysis', 'cycle', 'lobotomy', 'valediction', 'ultramicroscope', 'dermatogen', 'thixotropy', 'mortal', 'brachiopod', 'autonetics', 'verdict', 'ultramicrotome', 'hypogastrium', 'trope', 'trifocal', 'chromonema', 'cyclopaedia', 'ostomy', 'ovariectomy', 'trifoliate', 'dermatophyte', 'vindicate', 'chromophil', 'autonomic', 'ovariotomy', 'agglutinogen', 'megacity', 'hyphen', 'euplastic', 'colloquial', 'podagra', 'hypocotyl', 'autopsy', 'colloquium', 'rhizotomy', 'rhytidectomy', 'convolvulus', 'podium', 'pseudopodium', 'devolve', 'eloquence', 'necrosis', 'systaltic', 'protohuman', 'autotoxin', 'endoderm', 'endodermis', 'dichromate', 'cultigen', 'revolute', 'megaphone', 'dichromatic', 'epicycle', 'photoautotrophic', 'myoclonus', 'tome', 'semiautomatic', 'syzygy', 'achlamydeous', 'tonsillectomy', 'episome', 'trimorph', 'trinomial', 'hypopnea', 'dispel', 'magniloquent', 'achene', 'erogenous', 'acaulescent', 'megaspore', 'protonotary', 'intradermal', 'leukoderma', 'gyre', 'myosin', 'trioecious', 'vaginectomy', 'hypostasis', 'impel', 'hyperactive', 'voluminous', 'myotome', 'hypotenuse', 'repel', 'parvenu', 'magnanimous', 'kilohertz', 'lexical', 'xylotomy', 'hypothetical', 'triplane', 'protoxylem', 'auspices', 'adverse', 'hypothyroidism', 'triple', 'lexicon', 'hypergolic', 'hypotonic', 'magnify', 'triplet', 'lexicostatistics', 'percutaneous', 'neonatal', 'micropaleontology', 'hypermeter', 'magnum', 'perfecta', 'diabetes', 'gyrocompass', 'lexophobia', 'advertise', 'hypermetropia', 'aviator', 'paleoanthropology', 'dysphasia', 'monochromatism', 'hypermnesia', 'perfoliate', 'diacritical', 'averse', 'neocolonialism', 'sophistry', 'diadromous', 'sophomore', 'paleogeography', 'neoimpressionism', 'ornithine', 'decalcomania', 'theosophy', 'trisoctahedron', 'glyconeogenesis', 'trisomic', 'hyperphysical', 'hallucinogen', 'abysmal', 'pleochroism', 'dystopia', 'neoteric', 'hematogenous', 'horologe', 'dystrophy', 'tritone', 'idiogram', 'despicable', 'mania', 'triennial', 'triumvirate', 'biblical', 'nephrosis', 'adaxial']\n",
      " \n",
      "['epigeal', 'xylophone', 'viremia', 'postmeridian', 'augite', 'hepatectomy', 'quadrant', 'hepatic', 'inveracity', 'postnuptial', 'analytics', 'heterosexual', 'laryngoscope', 'parallelism', 'centiliter', 'heterosis', 'biotite', 'centillion', 'cytogenetics', 'quadriceps', 'anamorphic', 'centime', 'aqueduct', 'otoscope', 'emolument', 'procephalic', 'asynchronous', 'bilateral', 'postvocalic', 'heterothallic', 'cytolysis', 'calamite', 'prevocalic', 'emit', 'radarscope', 'centimo', 'ataractic', 'heterozygote', 'radioscopy', 'emissary', 'irrevocable', 'vocable', 'subaqueous', 'parapet', 'cytophotometry', 'binaural', 'century', 'epiphysis', 'quadrivium', 'epiphyte', 'emasculate', 'percent', 'periodontal', 'acrocephaly', 'homolecithal', 'chalcopyrite', 'anathema', 'statoscope', 'isoelectric', 'tungstite', 'rhizomorphous', 'elude', 'homologous', 'erythrocyte', 'forequarter', 'epistemic', 'uvarovite', 'hydra', 'periosteum', 'seicento', 'vanadinite', 'taxis', 'psychoanalysis', 'homonymous', 'quart', 'tachistoscope', 'periotic', 'profound', 'bipolar', 'telescope', 'peripatetic', 'anticatalyst', 'quarter', 'isomagnetic', 'hydrocarbon', 'progenitive', 'dolomite', 'acrostic', 'progenitor', 'elaterite', 'epithelioma', 'cataplasia', 'peristome', 'granolith', 'elect', 'isomerous', 'prognathous', 'epithelium', 'elate', 'perithecium', 'parotid', 'illegal', 'anthropocentric', 'epizoite', 'section', 'garnierite', 'homosporous', 'hydratase', 'quarto', 'epizoon', 'pedophile', 'central', 'isonomy', 'lithophyte', 'photon', 'centralism', 'catachresis', 'progression', 'cirriped', 'goethite', 'cataclysm', 'project', 'egregious', 'centre', 'hydrazine', 'aerodyne', 'dihedral', 'granulite', 'centric', 'monocyte', 'prokaryote', 'dilemma', 'periphyton', 'catalectic', 'dichotomy', 'heterograft', 'tetradynamous', 'isoseismal', 'peripteral', 'tetrapod', 'quadrennial', 'pseudepigraphy', 'photovoltaic', 'heterolysis', 'tetrapody', 'hyalite', 'dimorphic', 'adequate', 'otolith', 'kernite', 'dimorphism', 'equable', 'catarrhine', 'immune', 'isodynamic', 'catastasis', 'centroid', 'laminectomy', 'equanimity', 'tetravalent', 'spermatocyte', 'aeronautics', 'catastrophe', 'pedicure', 'impalpable', 'preclude', 'sociolinguistics', 'cleistogamous', 'anthropomorphism', 'equator', 'nymphomania', 'pyromania', 'encephalomyelitis', 'patrilocal', 'octennial', 'hemodynamics', 'brachydactylous', 'equidistant', 'dichogamous', 'lagomorph', 'dactyl', 'patriotism', 'gingivitis', 'dendrite', 'psephology', 'morpheme', 'dactylography', 'ileitis', 'psychology', 'natrolite', 'tectonics', 'theology', 'patronymic', 'preaxial', 'polymorphic', 'manipulate', 'gametophyte', 'triaxial', 'auditorium', 'nephrite', 'aviary', 'novaculite', 'topology', 'mastoiditis', 'cinerarium', 'equivalent', 'discography', 'rhinovirus', 'manufacture', 'meningitis', 'abiogenesis', 'catarrh', 'metritis', 'mediant', 'monocular', 'mortmain', 'metrorrhagia', 'zygomorphic', 'urology', 'phyllite', 'biocenosis', 'diatropism', 'mariner', 'osteomyelitis', 'mesenchyme', 'spermatorrhea', 'otitis', 'chloroplast', 'zoology', 'illusion', 'dioptrics', 'bankrupt', 'esemplastic', 'ectoplasm', 'anniversary', 'demitasse', 'pyroxenite', 'lunacy', 'disrupt', 'kilobar', 'mesomorphic', 'pyrrhotite', 'lunar', 'macrogamete', 'lunate', 'maternal', 'biennium', 'bioengineering', 'sanatorium', 'bioethics', 'atmospherics', 'microgametophyte', 'samarskite', 'hemiola', 'exergonic', 'traduce', 'solarium', 'lunette', 'cobelligerent', 'scleroma', 'civics', 'lethargy', 'postbellum', 'hemipterous', 'ectogenous', 'biogeography', 'scolecite', 'scleroprotein', 'matrix', 'sublunary', 'vivarium', 'rhinopharyngitis', 'syngamy', 'synergism', 'bioinstrumentation', 'monoplegia', 'monoploid', 'scleritis', 'sclerous', 'econometrics', 'beneficiary', 'gastritis', 'paternal', 'erythema', 'sphalerite', 'macroinstruction', 'arthroscope', 'benevolent', 'electroscope', 'stomatitis', 'electrokinetics', 'biomechanics', 'arthrosis', 'melanous', 'ectoparasite', 'taciturn', 'geobotany', 'pyrometer', 'pronoun', 'hydrolysis', 'monosepalous', 'pentad', 'photolithography', 'recluse', 'impenitent', 'propaedeutic', 'impecunious', 'monotheism', 'prophase', 'hydromancy', 'aerophobia', 'thermocline', 'category', 'aerophore', 'pandemonium', 'monotreme', 'thermoduric', 'imponderable', 'precognition', 'cathedral', 'pentavalent', 'prosector', 'cathexis', 'martyrology', 'impropriety', 'panorama', 'hydronic', 'pansophy', 'katabatic', 'demagogue', 'prothorax', 'hydrophane', 'pantheon', 'hydrophilic', 'unicellular', 'quintet', 'androgynous', 'mystagogue', 'geophyte', 'android', 'pedagog', 'hydrophyte', 'orthognathous', 'proverbial', 'geoscience', 'hydroponics', 'pyrognostics', 'tautology', 'theophobia', 'provident', 'inauspicious', 'gynandromorph', 'serodiagnosis', 'hexachord', 'hydroscope', 'hexad', 'orthostatic', 'provoke', 'phycology', 'agribusiness', 'corporation', 'incognito', 'spectrograph', 'hexagram', 'contract', 'philander', 'agriculture', 'geothermal', 'union', 'hydrotaxis', 'incommensurate', 'agrobiology', 'aphonia', 'exostosis', 'corps', 'tachymeter', 'corpse', 'incongruous', 'subtract', 'unisexual', 'gynecoid', 'tractable', 'phone', 'anthophore', 'algometer', 'verbalize', 'parterre', 'stylograph', 'traction', 'tensiometer', 'tachygraphy', 'gynephobia', 'cosmochemistry', 'incorrupt', 'verbose', 'phonic', 'trophozoite', 'gynoecium', 'phonics', 'hypanthium', 'indecorous', 'cosmology', 'phonogram', 'myalgia', 'thermography', 'tomography', 'terricolous', 'biceps', 'cosmopolitan', 'velocimeter', 'exotropia', 'archangel', 'geotropism', 'stereophonic', 'territory', 'indignant', 'literature', 'heptahedron', 'indispose', 'archdiocese', 'oospore', 'idiomorphic', 'transfix', 'centrosphere', 'extracurricular', 'polychotomy', 'tonsillitis', 'thrombocyte', 'semiotics', 'extrados', 'spore', 'thrombocytopenia', 'chronaxy', 'intercept', 'xylography', 'transgress', 'abduct', 'dicentric', 'interferometer', 'perplex', 'eccentric', 'cardiogenic', 'sporozoite', 'vulvitis', 'chronometer', 'ascribe', 'polymer', 'neurophysiology', 'cardiology', 'chronoscope', 'metaphor', 'extramural', 'conscription', 'gypsophila', 'extraneous', 'metaplasia', 'extranuclear', 'inject', 'isochronal', 'transmit', 'homocentric', 'nondescript', 'object', 'oncology', 'synchromesh', 'taxeme', 'onomatology', 'equiangular', 'metacenter', 'cardiorespiratory', 'polyphagous', 'metatarsus', 'ontology', 'cardiovascular', 'obstetrics', 'extrasystole', 'nucleonics', 'ductule', 'polyphase', 'oology', 'philter', 'intermittent', 'metonymy', 'endocardial', 'telecommunication', 'theocentric', 'polypnea', 'ultracentrifuge', 'junction', 'interneuron', 'polypody', 'epicardium', 'chrysoberyl', 'cephalopod', 'organology', 'cephalothorax', 'subjunctive', 'seduce', 'television', 'extrinsic', 'macroeconomics', 'xenophile', 'osteology', 'extrorse', 'allometry', 'otolaryngology', 'linguistics', 'traverse', 'bicephalous', 'ammeter', 'palynology', 'phonocardiograph', 'polytonality', 'carnage', 'ephebe', 'gymnastics', 'ephemeral', 'bactericide', 'hygienics', 'arachnephobia', 'carnation', 'phenology', 'fratricide', 'phenomenology', 'eurytherm', 'degrade', 'kilogrammeter', 'carnival', 'kiloliter', 'exothermic', 'oligoclase', 'degression', 'oligophagous', 'kiloton', 'colorimeter', 'floristics', 'stenotherm', 'digress', 'carrion', 'kilovolt', 'oligopsony', 'encephalon', 'encephalopathy', 'helix', 'interdict', 'oligosaccharide', 'physiology', 'entomophobia', 'jurisdiction', 'epididymis', 'bursitis', 'thermal', 'oligotrophic', 'suffuse', 'macrocephaly', 'esthetics', 'milliard', 'enarthrosis', 'phytogenesis', 'maladroit', 'credence', 'ametropia', 'prospectus', 'bionics', 'heptastich', 'endospore', 'biophysics', 'malaise', 'toponym', 'pteropod', 'malapert', 'adynamic', 'specimen', 'discredit', 'septet', 'specious', 'bioscience', 'oculist', 'astrocyte', 'recreant', 'semiterrestrial', 'spectator', 'purgative', 'octad', 'biosynthesis', 'purgatory', 'octagon', 'spectre', 'postgraduate', 'endoneurium', 'pyrogenic', 'regress', 'haplopia', 'cryophilic', 'octavo', 'biotron', 'denticle', 'pyre', 'biotype', 'anaerobic', 'dentifrice', 'sporogenesis', 'heliolatry', 'endobiotic', 'bioastronautics', 'analgesia', 'microbicide', 'octopod', 'cryptic', 'pyrolysis', 'malignant', 'parabiosis', 'cryptoclastic', 'octuple', 'dentition', 'trypsinogen', 'aniseikonia', 'rhizobium', 'rhizosphere', 'autocephalous', 'arboreous', 'evert', 'presbyopia', 'agamete', 'convivial', 'radical', 'aedes', 'radicand', 'solar', 'anhydride', 'sphery', 'diphyodont', 'anarthria', 'bacteremia', 'evaluate', 'eucalyptus', 'stratosphere', 'omnibus', 'decigram', 'autogenous', 'revitalize', 'thermosphere', 'omnidirectional', 'autogiro', 'revivify', 'cyanine', 'troposphere', 'ramiform', 'eudemon', 'hematin', 'aneroid', 'omnirange', 'hematite', 'eradicate', 'nonpathogenic', 'decagon', 'perigynous', 'inflorescence', 'mesencephalon', 'densitometer', 'ambidextrous', 'millicurie', 'ambience', 'mesocephalic', 'tubuliflorous', 'ovicide', 'aphelion', 'pathogen', 'millifarad', 'parasiticide', 'trichogyne', 'aspirate', 'perspicacious', 'anthropogenesis', 'aspire', 'rhodopsin', 'ineffable', 'zoosterol', 'ambivalent', 'electrometer', 'bilirubin', 'neuroglia', 'ineloquent', 'apocarpous', 'emmetropia', 'allograft', 'inspirit', 'anthropopathism', 'amphiarthrosis', 'regicide', 'millimicron', 'rubefacient', 'neuromuscular', 'inept', 'architect', 'neuron', 'orthogonal', 'amphibiotic', 'apocrine', 'pentagon', 'spirit', 'apocryphal', 'ineradicable', 'amphibole', 'cleistothecium', 'deport', 'inert', 'misanthrope', 'amphibolite', 'neurotomy', 'deportment', 'eccrine', 'amphibology', 'trigonal', 'cerebrovascular', 'cerebrum', 'entomophagous', 'amphimacer', 'inexplicable', 'exosmosis', 'esophagus', 'exotoxin', 'viricide', 'intragalactic', 'apomixis', 'metronome', 'nomothetic', 'aponeurosis', 'phyllophagous', 'monarch', 'nanometer', 'intramuscular', 'infinite', 'antecedent', 'decillion', 'report', 'amphitheatre', 'cranium', 'circumflex', 'oligarchy', 'intraocular', 'circumfluent', 'odometer', 'pseudocyesis', 'chalcography', 'myriad', 'tetrarch', 'circumjacent', 'apostle', 'intraspecific', 'quindecillion', 'nonagenarian', 'antediluvian', 'iniquity', 'zoophagous', 'osmometer', 'triphibian', 'antemeridian', 'apothecary', 'apothecium', 'ovum', 'psychohistory', 'apothegm', 'frugivorous', 'vigintillion', 'penetrometer', 'inordinate', 'coronagraph', 'pentameter', 'antepenult', 'inscrutable', 'circumspect', 'empathy', 'circumstance', 'anterior', 'insomnia', 'hagiocracy', 'intromit', 'photokinesis', 'saccharide', 'insectivorous', 'psychosurgery', 'semanteme', 'chrome', 'myopathy', 'logion', 'intangible', 'naturopathy', 'spermatid', 'intractable', 'mobocracy', 'pericycle', 'postlude', 'hematocrit', 'obverse', 'graphic', 'diphthong', 'hematology', 'histogen', 'diphyllous', 'hematolysis', 'leucite', 'hematoma', 'diplegia', 'leucoplast', 'anisometropia', 'macropterous', 'carpology', 'subvert', 'heterography', 'disyllable', 'tergiversate', 'homogenous', 'carpophore', 'dodecasyllable', 'macrospore', 'hematosis', 'hypogenous', 'diploid', 'vivid', 'microclimate', 'tracheophyte', 'immunogenetics', 'anonymous', 'tropophyte', 'immunogenic', 'dipody', 'blastema', 'monocarpellary', 'anorthite', 'isoantigen', 'dipole', 'hemoglobinuria', 'anorthosite', 'verso', 'hemolymph', 'linguine', 'histology', 'vertex', 'cladophyll', 'pentasyllable', 'blastoderm', 'linguistic', 'polycarpellary', 'vertiginous', 'megasporogenesis', 'mesophyll', 'micrometeorite', 'dizygotic', 'hydrometeorology', 'aorist', 'blastopore', 'monogenic', 'mammography', 'sarcocarp', 'monogenism', 'veracity', 'schizocarp', 'phyllotaxis', 'microorganism', 'hemostasis', 'syncarpous', 'microphotograph', 'lipase', 'verisimilitude', 'duad', 'microradiography', 'sporophyll', 'dual', 'sympetalous', 'xenia', 'lepidopterology', 'duo', 'physician', 'mythography', 'xeriscape', 'macroclimatology', 'nosography', 'almandite', 'azote', 'synapse', 'azotobacter', 'duplicity', 'recede', 'odograph', 'alunite', 'microsecond', 'triangle', 'palingenesis', 'melanoblast', 'orthography', 'triathlon', 'succeed', 'asexual', 'andradite', 'dynameter', 'asocial', 'sexennial', 'microbiology', 'pantograph', 'syndetic', 'paragraph', 'microspore', 'cental', 'ankerite', 'anthracite', 'trichloride', 'astatic', 'osteoblast', 'microtome', 'apatite', 'triploblastic', 'astatine', 'aragonite', 'uremia', 'syndrome', 'pedigree', 'eukaryote', 'prosthodontics', 'bicycle', 'organotropism', 'stereomicroscope', 'tricuspid', 'zooplasty', 'hyperthermia', 'amortize', 'cycloid', 'trifid', 'chromomere', 'cyclone', 'megabit', 'achondroplasia', 'heterogenesis', 'megabyte', 'tropism', 'acrogen', 'autonomous', 'trifurcate', 'theocracy', 'synopsis', 'trigeminal', 'phlebotomy', 'autophyte', 'timocracy', 'prostatectomy', 'cyclosis', 'carcinogen', 'podite', 'trilateral', 'autoradiograph', 'eupnea', 'convolve', 'ectoderm', 'eurhythmics', 'chromosphere', 'necropsy', 'splenectomy', 'congener', 'euripus', 'thoracotomy', 'eurythmics', 'trimester', 'systematics', 'trimonthly', 'systole', 'megapode', 'proton', 'hypoplasia', 'eutectic', 'hypodermic', 'revolve', 'hypodermis', 'protonema', 'gyrate', 'genome', 'voluble', 'trisyllable', 'myoneural', 'hemachrome', 'megavolt', 'volume', 'hemicycle', 'protoplasm', 'mesoderm', 'hypotension', 'triose', 'hemochromatosis', 'ventriloquism', 'heterocyclic', 'hyperbole', 'megohm', 'varicotomy', 'egotism', 'dysfunction', 'splenomegaly', 'hypothermia', 'heterochromosome', 'rhabdomyosarcoma', 'scleroderma', 'perambulate', 'genealogy', 'hypercritical', 'sclerodermatous', 'protozoan', 'taxidermy', 'gymnosophist', 'sophism', 'genesis', 'monochromatic', 'dyspepsia', 'aviation', 'genetics', 'sophist', 'acaudate', 'paleethnology', 'monochrome', 'sophisticated', 'monosome', 'oneiromancy', '嚜瘸biogenesis', 'trisaccharide', 'pyromancy', 'avert', 'panchromatic', 'epilogue', 'hyperostosis', 'trisect', 'permit', 'diagonal', 'phytochrome', 'helical', 'permute', 'dysrhythmia', 'ornithoid', 'hyperpituitarism', 'trivalent', 'polychromatic', 'diagraph', 'paleontology', 'iconostasis', 'hyperplasia', 'helicopter', 'paleozoology', 'nephrectomy', 'arbor', 'ornithosis', 'hypersensitive', 'biblicist']\n",
      " \n",
      "['triweekly', 'intransitive', 'centesimo', 'periderm', 'enunciate', 'epigene', 'advocate', 'intrepid', 'enumerate', 'laparoscope', 'aquatic', 'perihelion', 'convoke', 'astomatous', 'invincible', 'enervate', 'epiglottis', 'bifoliate', 'perilune', 'quadratic', 'nephoscope', 'epigram', 'bifurcate', 'paralysis', 'irrecusable', 'proceed', 'cytokinesis', 'heterotaxis', 'perimeter', 'asyndeton', 'irreparable', 'centimetre', 'perimorph', 'epilepsy', 'bilobate', 'anaphora', 'proclivity', 'cytomegalic', 'bimonthly', 'paranoia', 'subaquatic', 'eminent', 'carnotite', 'quadriplegia', 'ataxia', 'procreate', 'isentropic', 'sniperscope', 'acrobatics', 'vocal', 'emend', 'homoiotherm', 'trichite', 'atonic', 'anastrophe', 'binocular', 'chalcocite', 'troilite', 'binomial', 'paraphrase', 'emanate', 'spinthariscope', 'isoelectronic', 'paraselene', 'oophorectomy', 'axenic', 'quattrocento', 'isoenzyme', 'chondrite', 'phosphorescence', 'stethoscope', 'biplane', 'parataxis', 'phosphorus', 'deuteranopia', 'sexcentenary', 'epistolary', 'cordierite', 'acrophobia', 'hydric', 'epistrophe', 'protanopia', 'eligible', 'homophobia', 'willemite', 'catalyst', 'pyrophoric', 'elide', 'homophone', 'isomer', 'hydrocele', 'peristalsis', 'parenthesis', 'homophonic', 'parenthetical', 'spermatophore', 'ignominy', 'dissect', 'ignorant', 'aerate', 'hydrocolloid', 'laccolith', 'quartette', 'ignore', 'autocatalysis', 'prognosis', 'elan', 'homosexual', 'isometropia', 'aeroballistics', 'hydrargyrum', 'leukocytosis', 'elaborate', 'isomorphic', 'biyearly', 'peritonitis', 'homotaxis', 'illegitimate', 'venesection', 'homozygote', 'granite', 'projectile', 'heterodox', 'photosphere', 'aeroembolism', 'thermodynamics', 'grossularite', 'aerography', 'prolate', 'phototaxis', 'immense', 'centriole', 'dimeter', 'maxilliped', 'hydrogen', 'conclude', 'pedal', 'prolocutor', 'phagocytosis', 'isotherm', 'bryophyte', 'pinocytosis', 'exclude', 'labradorite', 'dimorphous', 'pedestrian', 'prolusion', 'ileostomy', 'isotope', 'dioecious', 'occlude', 'impeccable', 'pronominal', 'sporocyte', 'dialysis', 'malachite', 'statics', 'axis', 'diapason', 'enteritis', 'manganite', 'patrimony', 'arborvitae', 'axle', 'digamy', 'melanite', 'stylistics', 'dactylogram', 'morphallaxis', 'misoneism', 'dendroid', 'epidendrum', 'coaxial', 'retrospect', 'philodendron', 'bibliopole', 'equipollent', 'keratitis', 'manifest', 'rhododendron', 'bibliotheca', 'thremmatology', 'bibliotherapy', 'gamic', 'bibliotics', 'pterodactyl', 'bar', 'equivocal', 'theomorphic', 'columbarium', 'zygodactyl', 'demiurge', 'pegmatite', 'antibiosis', 'inadequate', 'heterogamete', 'perlite', 'herbarium', 'endemic', 'urbanology', 'neuritis', 'monoculture', 'diatribe', 'unequivocal', 'heterogamy', 'venereology', 'epidemiology', 'marina', 'hologamous', 'collude', 'natatorium', 'pandemic', 'homogamous', 'dramaturgy', 'mesentery', 'perennate', 'energetics', 'ovaritis', 'pyrite', 'piscary', 'isallobar', 'biocybernetics', 'mesoglea', 'monomer', 'planetarium', 'biodegradable', 'diorama', 'endothermic', 'karyogamy', 'mesogloea', 'bioelectric', 'pharyngitis', 'aerostatics', 'karyoplasm', 'hemodialysis', 'ectomorphic', 'megagametophyte', 'idiolect', 'rhyolite', 'nucleoplasm', 'millibar', 'scriptorium', 'matriculate', 'biogas', 'biannual', 'exoergic', 'plasmagel', 'scleroid', 'biogenesis', 'hemiplegia', 'biennial', 'plasmid', 'terrarium', 'oogamy', 'lunule', 'acyclic', 'rebel', 'metallurgy', 'plasminogen', 'didactics', 'melancholy', 'monoplane', 'arbovirus', 'sclerotium', 'adiabatic', 'endotracheal', 'siderolite', 'semiarid', 'macro', 'matronymic', 'melanin', 'beneficent', 'semicentennial', 'gastrin', 'sperrylite', 'paterfamilias', 'melanoid', 'economics', 'monopody', 'colposcope', 'arthropod', 'benefit', 'erythrism', 'paternalism', 'semidiameter', 'transect', 'annals', 'macromolecule', 'melanosis', 'monopsony', 'erythroid', 'electronics', 'monorhyme', 'stannite', 'electrostatics', 'thermoplastic', 'maladjusted', 'diarthrosis', 'biometeorology', 'tetroxide', 'monostich', 'haphephobia', 'seclude', 'panacea', 'thermistor', 'aerophagia', 'catechumen', 'cognizance', 'prophylactic', 'cognoscente', 'saccharimeter', 'nosophobia', 'thermocouple', 'cognoscible', 'geoid', 'piezometer', 'panhuman', 'ochlophobia', 'geomancy', 'polarimeter', 'monozygotic', 'catholic', 'hydromorphic', 'diagnosis', 'geometry', 'diagnostics', 'saccharometer', 'imprudent', 'salimeter', 'pantheism', 'photophobia', 'emmenagogue', 'thermomotor', 'pnigophobia', 'thermonuclear', 'protract', 'radiograph', 'radiophotography', 'thermoregulation', 'inalienable', 'hydrophone', 'taphephobia', 'pedagogics', 'proverb', 'roentgenography', 'unifoliate', 'quintuple', 'inanimate', 'hydroplane', 'syllogism', 'orthopteran', 'technophobia', 'seismograph', 'geostrophic', 'orthoscope', 'tocophobia', 'incessant', 'telegnosis', 'geosyncline', 'unilateral', 'synagogue', 'uninucleate', 'orthotropic', 'spectroheliograph', 'stoichiometry', 'orthotropous', 'hypogeal', 'incompetent', 'anthesis', 'verb', 'hexapod', 'osteophyte', 'cacophony', 'agronomy', 'gynarchy', 'hydrotherapy', 'taximeter', 'hexapody', 'agrostology', 'unison', 'osteotomy', 'hydroxide', 'incorporate', 'stylography', 'tetrameter', 'sexagenarian', 'trophallaxis', 'verbify', 'technography', 'causalgia', 'gyniatrics', 'tonometer', 'osteoma', 'oxyhydrogen', 'terrene', 'gynophore', 'biathlon', 'indefeasible', 'rehydrate', 'urinometer', 'nephralgia', 'variometer', 'phonoscope', 'terrier', 'nostalgia', 'telephone', 'microcosm', 'thyroiditis', 'holometabolic', 'anemophilous', 'syncytium', 'obliterate', 'musicology', 'audiophile', 'transform', 'intercalate', 'metacarpus', 'transfuse', 'myology', 'sporiferous', 'cardia', 'chronic', 'zincography', 'sporocyst', 'chronicle', 'uvulitis', 'metamere', 'discophile', 'adduce', 'neurology', 'polyhedron', 'endocentric', 'transition', 'adductor', 'metanephros', 'conduce', 'dynamite', 'extramundane', 'interim', 'politics', 'polymorphism', 'exocentric', 'diachronic', 'transliterate', 'describe', 'interlace', 'cardiomyopathy', 'geocentric', 'geochronometry', 'deduce', 'oceanology', 'metaplasm', 'geosynchronous', 'deduct', 'zygospore', 'dyne', 'chemotaxis', 'metastable', 'orthopaedics', 'philharmonic', 'synchronize', 'transonic', 'extraterrestrial', 'metathesis', 'carditis', 'educate', 'extraterritorial', 'intermediate', 'polyphony', 'subcentral', 'synchroscope', 'transpicuous', 'conjunctiva', 'chrysalis', 'extravagant', 'script', 'disjunct', 'transplant', 'microeconomics', 'polyploid', 'subscribe', 'internet', 'injunction', 'endocardium', 'chryselephantine', 'extravascular', 'transpose', 'oviduct', 'metamathematics', 'thermophile', 'intracardiac', 'superscript', 'actinometer', 'polysemy', 'myocarditis', 'diencephalon', 'chrysoprase', 'unscripted', 'polysepalous', 'xerophilous', 'telomere', 'pericarditis', 'dynamism', 'congregate', 'polytheism', 'desegregate', 'intersect', 'polytocous', 'disaggregate', 'tachycardia', 'cephalad', 'interstate', 'theism', 'xanthous', 'confuse', 'segregate', 'harmonics', 'algicide', 'carnal', 'cephalin', 'dynamics', 'milliampere', 'petrology', 'bathometer', 'diffuse', 'congress', 'polyzoan', 'fungicide', 'arteritis', 'forensics', 'cancerphobia', 'carnivore', 'genocide', 'kilometer', 'fluidics', 'perfuse', 'epicycloid', 'cynophobia', 'kilowatt', 'euphenics', 'leptocephalus', 'infanticide', 'cholecystitis', 'ethics', 'gephyrophobia', 'incarnate', 'insecticide', 'metronymic', 'prospect', 'agnostic', 'maladminister', 'biometrics', 'endosperm', 'gradient', 'osteoarthritis', 'semilunar', 'heptapody', 'synarthrosis', 'endothecium', 'respect', 'asterisk', 'endoskeleton', 'gressorial', 'heptose', 'pterosaur', 'asterism', 'ingredient', 'miscreant', 'primogenitor', 'ingress', 'trichopteran', 'spectacle', 'primogeniture', 'doxology', 'retroocular', 'astrodome', 'malcontent', 'biostatistics', 'amoral', 'semitone', 'amblyopia', 'maldistribution', 'semitransparent', 'pyogenic', 'malediction', 'semivowel', 'pyrogen', 'octahedron', 'spectrum', 'biotechnology', 'cryolite', 'specular', 'malefactor', 'cryometer', 'speculate', 'astronautics', 'hemeralopia', 'hyperpyrexia', 'speculum', 'maleficence', 'biotin', 'endometrium', 'tardigrade', 'astronomical', 'cryoprobe', 'schizogenesis', 'atmosphere', 'cryoscope', 'bathysphere', 'ecosphere', 'cryonics', 'cryostat', 'cryosurgery', 'dentigerous', 'malice', 'cryotherapy', 'ophthalmoscope', 'insphere', 'evolution', 'optic', 'optical', 'magnetosphere', 'autecology', 'evoke', 'heliotrope', 'ozonosphere', 'psychobiography', 'malnutrition', 'parhelion', 'cryptogenic', 'xenogenesis', 'anhydrous', 'saprobe', 'edentate', 'zoogenic', 'anhydrite', 'autochthonous', 'malposition', 'lunisolar', 'spherical', 'parasol', 'decare', 'scotopia', 'autoecious', 'evanescent', 'decathlon', 'evanesce', 'decemvir', 'xerophthalmia', 'anecdote', 'procryptic', 'dialog', 'evade', 'gonorrhea', 'radix', 'eucaryote', 'cyan', 'heterogony', 'euchromatin', 'oogonium', 'deciliter', 'omnifarious', 'odontoid', 'tropopause', 'eruct', 'omnipotent', 'autogyro', 'viable', 'cyanobacteria', 'dekagram', 'omnipresent', 'vital', 'cyanosis', 'erase', 'nephrotomy', 'pneumonectomy', 'dodecagon', 'pneumonia', 'indolent', 'archenemy', 'zooid', 'polygyny', 'metencephalon', 'rhodolite', 'dinieter', 'pneumothorax', 'archeology', 'rhodonite', 'hendecagon', 'milligal', 'ambisexual', 'heptagon', 'milligram', 'neurochemistry', 'patricide', 'perspicuous', 'zooplankton', 'rhodora', 'pathology', 'hexagon', 'archfiend', 'pesticide', 'isogon', 'milliliter', 'raticide', 'millimeter', 'pertinacious', 'apochromatic', 'altruism', 'sororicide', 'apicoalveolar', 'lycanthrope', 'archpriest', 'cerebral', 'polygon', 'lycanthropy', 'autarchy', 'cerebrate', 'sporicide', 'rubescent', 'cerebroside', 'hexameter', 'inevitable', 'taeniacide', 'neurotoxin', 'paleoanthropic', 'billion', 'neurotropic', 'inexpiable', 'rubious', 'trillion', 'import', 'philanthropy', 'rubric', 'lysimeter', 'portable', 'intrados', 'quintillion', 'manometer', 'portage', 'chemotaxonomy', 'infelicitous', 'matriarch', 'virucide', 'arteriography', 'oesophagus', 'amphisbaena', 'craniometer', 'intramural', 'socioeconomic', 'infidelity', 'holograph', 'apophyllite', 'intranuclear', 'infinitesimal', 'vocalic', 'apostasy', 'ohmmeter', 'antedate', 'optometry', 'xylophagous', 'apostrophe', 'oblate', 'circumlunar', 'kinesthesia', 'chorography', 'triarchy', 'synaesthesia', 'intravascular', 'pedometer', 'chromate', 'irrespective', 'autocracy', 'circumpolar', 'anabolism', 'antependium', 'bureaucracy', 'circumscribe', 'intrinsic', 'graminivorous', 'anachronism', 'penultimate', 'photogrammetry', 'pleonasm', 'chromatid', 'anacrusis', 'introject', 'recto', 'anteroom', 'circumterrestrial', 'psychometrics', 'onomastics', 'insectivore', 'anadromous', 'postaxial', 'chromatophore', 'psychokinesis', 'aquaculture', 'isocracy', 'circumvolution', 'introspect', 'telekinesis', 'anagoge', 'meritocracy', 'anagram', 'ailurophile', 'intransigent', 'necrolatry', 'graphics', 'anisometric', 'quinquennial', 'heliograph', 'revert', 'viva', 'pteridophyte', 'anodyne', 'carpophagous', 'leukoplakia', 'spermatophyte', 'vive', 'carpospore', 'leukopoiesis', 'iatrogenic', 'hyetography', 'leukorrhea', 'vivify', 'hexasyllable', 'bilingual', 'glottochronology', 'versicolor', 'indigenous', 'monosyllable', 'lingua', 'nonsyllabic', 'blastocoel', 'isogenous', 'microfiche', 'ailurophobia', 'parthenocarpy', 'chlorophyll', 'versus', 'histophysiology', 'lingulate', 'divalent', 'anuran', 'polycarpic', 'hemorrhage', 'micron', 'duodenum', 'rhizocarpous', 'hemorrhoid', 'syllabify', 'hymnology', 'apathy', 'micronucleus', 'duopoly', 'phyllode', 'morphogenesis', 'dodecahedron', 'dodecaphonic', 'hemostatic', 'verism', 'aphasia', 'neogenesis', 'hemotoxin', 'lipoid', 'epiblast', 'kinesiology', 'theophylline', 'monograph', 'verity', 'aphyllous', 'lipoma', 'physical', 'hypocaust', 'nitrogen', 'microplankton', 'limnology', 'physicist', 'oogenesis', 'nomography', 'lithology', 'holoblastic', 'micropyle', 'xerosis', 'symptomatology', 'alexandrite', 'micropyrometer', 'physiognomy', 'duplicate', 'apterous', 'microscopic', 'arrhythmia', 'leukemia', 'microseism', 'secede', 'andesite', 'methodology', 'microsome', 'meroblastic', 'paragenesis', 'metrology', 'microsphere', 'tribrach', 'anglesite', 'merozoite', 'aspheric', 'quadrennium', 'pedogenesis', 'asphyxia', 'odontoblast', 'syndic', 'micrometeorology', 'trichotomy', 'spermatozoid', 'mixology', 'microvillus', 'spermatozoon', 'trophoblast', 'tricorn', 'thromboplastin', 'ochlocracy', 'autologous', 'chromium', 'gastroscope', 'lobectomy', 'eulogy', 'gastrotrich', 'peduncle', 'eupatrid', 'chromogen', 'hyperthyroidism', 'automatic', 'eupepsia', 'chromolithography', 'gastrula', 'hypertrophy', 'veridical', 'mortify', 'thalassocracy', 'synonymous', 'myriapod', 'dermatosis', 'allergen', 'megacycle', 'necrophagous', 'chromoplast', 'convolution', 'abyssal', 'synsepalous', 'megadose', 'protist', 'echinoderm', 'colloquy', 'acarpous', 'synthesis', 'hypomania', 'protohistory', 'autotomy', 'chromous', 'hyponasty', 'megalopolis', 'salpingectomy', 'congenital', 'system', 'megameter', 'interlocution', 'necrotomy', 'involve', 'thyroidectomy', 'protolithic', 'eurythmy', 'epidermis', 'digenesis', 'dichroscope', 'hypoploid', 'compel', 'tetrasyllable', 'trio', 'egoism', 'obloquy', 'hypotaxis', 'egoist', 'hyperbola', 'propel', 'vagotomy', 'egomania', 'heterochromatin', 'hypocycloid', 'prototrophic', 'egotist', 'dysgenic', 'pyoderma', 'hypercorrection', 'hypothesis', 'prototype', 'triphthong', 'innate', 'adversary', 'isochromatic', 'megahertz', 'generatrix', 'percolate', 'dyslexia', 'isochroous', 'monocyclic', 'protozoology', 'dysmenorrhea', 'metachromatism', 'magnitude', 'lexis', 'dynamic', 'postnatal', 'advertent', 'chiromancy', 'vicennial', 'genre', 'perforate', 'genus', 'paleoecology', 'duologue', 'urethroscope', 'rhabdomancy', 'photochromic', 'diageotropism', 'neophobia', 'controversy', 'haplology', 'dysteleology', 'helicoid', 'heterology', 'hematogenesis', 'erotomania', 'tristich', 'helicon', 'divert', 'ornithopter', 'diakinesis', 'hyperploid', 'divorce', 'tricycle', 'maniac', 'unicycle', 'idiomatic', 'trichroism']\n"
     ]
    }
   ],
   "source": [
    "remained_samples = list(word_dict.values())\n",
    "sample_set_size = ceil(len(remained_samples) / CROSS_VALIDATION_FOLD)\n",
    "sample_list = []\n",
    "for i in range(CROSS_VALIDATION_FOLD - 1):\n",
    "    remained_samples_len = len(remained_samples)\n",
    "    samples_idx = sample(range(remained_samples_len), sample_set_size)\n",
    "    sample_list.append(set([remained_samples[idx] for idx in samples_idx]))\n",
    "    remained_samples = [remained_samples[j] for j in range(remained_samples_len) if j not in samples_idx]\n",
    "sample_list.append(set(remained_samples))"
   ]
  },
  {
   "cell_type": "code",
   "execution_count": null,
   "metadata": {
    "pycharm": {
     "name": "#%%\n"
    }
   },
   "outputs": [],
   "source": [
    "for l in sample_list:\n",
    "    print(' ')\n",
    "    print([w.text for w in l])"
   ]
  },
  {
   "cell_type": "code",
   "execution_count": null,
   "outputs": [],
   "source": [],
   "metadata": {
    "collapsed": false,
    "pycharm": {
     "name": "#%%\n"
    }
   }
  },
  {
   "cell_type": "code",
   "execution_count": null,
   "outputs": [],
   "source": [
    "\n",
    "def train(folds):\n",
    "    trainer = pycrfsuite.Trainer(verbose=False)\n",
    "    for w in folds:\n",
    "        trainer.append(create_word_features(w),\n",
    "                       create_word_labels(w))\n",
    "\n",
    "    trainer.set_params({\n",
    "        'c1': 1.0,\n",
    "        'c2': 1e-3,\n",
    "        'max_iterations': 50,\n",
    "        'feature.possible_transitions': True\n",
    "    })\n",
    "    trainer.train('word-segmentation.crfsuite')\n",
    "\n",
    "\n",
    "def test(fold_idx):\n",
    "    tagger = pycrfsuite.Tagger()\n",
    "    tagger.open('word-segmentation.crfsuite')\n",
    "    for word in sample_list[fold_idx]:\n",
    "        w = word.replace(\" \", \"\")\n",
    "        prediction = tagger.tag(create_word_features(w))\n",
    "        complete = \"\"\n",
    "        for i, p in enumerate(prediction):\n",
    "            if int(p) >= 1:\n",
    "                complete += \" \" + w[i]\n",
    "            else:\n",
    "                complete += w[i]\n",
    "        return complete\n",
    "\n"
   ],
   "metadata": {
    "collapsed": false,
    "pycharm": {
     "name": "#%%\n"
    }
   }
  },
  {
   "cell_type": "code",
   "execution_count": null,
   "metadata": {},
   "outputs": [],
   "source": []
  }
 ],
 "metadata": {
  "kernelspec": {
   "display_name": "Python 3",
   "language": "python",
   "name": "python3"
  },
  "language_info": {
   "codemirror_mode": {
    "name": "ipython",
    "version": 3
   },
   "file_extension": ".py",
   "mimetype": "text/x-python",
   "name": "python",
   "nbconvert_exporter": "python",
   "pygments_lexer": "ipython3",
   "version": "3.9.0"
  }
 },
 "nbformat": 4,
 "nbformat_minor": 1
}